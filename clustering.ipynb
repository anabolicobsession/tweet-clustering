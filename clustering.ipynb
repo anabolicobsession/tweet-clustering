{
 "cells": [
  {
   "cell_type": "markdown",
   "id": "d1fbce0d-eec2-4b58-826c-3c9a0590ced4",
   "metadata": {},
   "source": [
    "# Dataset"
   ]
  },
  {
   "cell_type": "markdown",
   "id": "7e8fe414-ddd0-4ca8-8629-88e3f36edcec",
   "metadata": {},
   "source": [
    "Choose a dataset to cluster"
   ]
  },
  {
   "cell_type": "code",
   "execution_count": 1,
   "id": "9d4f4a24-a01f-4029-b7dc-8ed0f4890f8d",
   "metadata": {
    "execution": {
     "iopub.execute_input": "2024-01-09T21:35:07.815260Z",
     "iopub.status.busy": "2024-01-09T21:35:07.814762Z",
     "iopub.status.idle": "2024-01-09T21:35:07.820810Z",
     "shell.execute_reply": "2024-01-09T21:35:07.820236Z",
     "shell.execute_reply.started": "2024-01-09T21:35:07.815233Z"
    }
   },
   "outputs": [],
   "source": [
    "DATASET = 'dataset70000.csv'"
   ]
  },
  {
   "cell_type": "code",
   "execution_count": 2,
   "id": "3a1376b7-03b0-481b-84f0-65dd05290e4d",
   "metadata": {
    "execution": {
     "iopub.execute_input": "2024-01-09T21:35:07.822041Z",
     "iopub.status.busy": "2024-01-09T21:35:07.821860Z",
     "iopub.status.idle": "2024-01-09T21:35:10.744397Z",
     "shell.execute_reply": "2024-01-09T21:35:10.743719Z",
     "shell.execute_reply.started": "2024-01-09T21:35:07.822025Z"
    }
   },
   "outputs": [
    {
     "name": "stdout",
     "output_type": "stream",
     "text": [
      "cpu: 8\n"
     ]
    }
   ],
   "source": [
    "%load_ext autoreload\n",
    "%autoreload 2\n",
    "\n",
    "import os\n",
    "from pathlib import Path\n",
    "from multiprocessing import cpu_count\n",
    "import time\n",
    "\n",
    "import pandas as pd\n",
    "import numpy as np\n",
    "import torch\n",
    "from sklearn.metrics import adjusted_rand_score\n",
    "\n",
    "from constants import SEED\n",
    "from utils import load_dataset, save_dataset\n",
    "from utils import model_path, format_list, format_counter, extract_name\n",
    "from utils import Timer\n",
    "from evaluation import match_cluster_labels, compute_metrics, metrics_to_df, EvaluationResults\n",
    "\n",
    "# pd.set_option(\"display.precision\", 3)\n",
    "pd.set_option('display.float_format', lambda x: '%.3f' % x)\n",
    "pd.set_option('display.max_colwidth', None)\n",
    "os.environ[\"TOKENIZERS_PARALLELISM\"] = \"false\"\n",
    "Path('models').mkdir(parents=True, exist_ok=True)  # for saving models\n",
    "\n",
    "rng = np.random.default_rng(seed=SEED)\n",
    "device = torch.device('cuda' if torch.cuda.is_available() else 'cpu')\n",
    "N_CPU = cpu_count()\n",
    "er = EvaluationResults(extract_name(DATASET), create_new=False)\n",
    "timer = Timer()\n",
    "\n",
    "def get_pipeline_label(clustering_label):\n",
    "    return text_embedding_label + '+' + ((reduction_label + '+') if reduction_label != '' else '') + clustering_label\n",
    "\n",
    "print(f'cpu: {N_CPU}')"
   ]
  },
  {
   "cell_type": "code",
   "execution_count": 3,
   "id": "ab0f5f4c",
   "metadata": {
    "execution": {
     "iopub.execute_input": "2024-01-09T21:35:10.745714Z",
     "iopub.status.busy": "2024-01-09T21:35:10.745524Z",
     "iopub.status.idle": "2024-01-09T21:35:10.966337Z",
     "shell.execute_reply": "2024-01-09T21:35:10.965662Z",
     "shell.execute_reply.started": "2024-01-09T21:35:10.745697Z"
    }
   },
   "outputs": [
    {
     "name": "stdout",
     "output_type": "stream",
     "text": [
      "dataset contains 70406 samples and 3 features\n"
     ]
    }
   ],
   "source": [
    "dataset = load_dataset(DATASET)\n",
    "print(f'dataset contains {dataset.shape[0]} samples and {dataset.shape[1]} features')"
   ]
  },
  {
   "cell_type": "markdown",
   "id": "d05655bb-5302-459d-97da-9a62632f9de6",
   "metadata": {},
   "source": [
    "Topic distribution"
   ]
  },
  {
   "cell_type": "code",
   "execution_count": 4,
   "id": "3f3d9c64-9301-4c18-a93c-75be066143ee",
   "metadata": {
    "execution": {
     "iopub.execute_input": "2024-01-09T21:35:10.967675Z",
     "iopub.status.busy": "2024-01-09T21:35:10.967114Z",
     "iopub.status.idle": "2024-01-09T21:35:11.042082Z",
     "shell.execute_reply": "2024-01-09T21:35:11.041523Z",
     "shell.execute_reply.started": "2024-01-09T21:35:10.967654Z"
    }
   },
   "outputs": [
    {
     "data": {
      "text/html": [
       "<div>\n",
       "<style scoped>\n",
       "    .dataframe tbody tr th:only-of-type {\n",
       "        vertical-align: middle;\n",
       "    }\n",
       "\n",
       "    .dataframe tbody tr th {\n",
       "        vertical-align: top;\n",
       "    }\n",
       "\n",
       "    .dataframe thead th {\n",
       "        text-align: right;\n",
       "    }\n",
       "</style>\n",
       "<table border=\"1\" class=\"dataframe\">\n",
       "  <thead>\n",
       "    <tr style=\"text-align: right;\">\n",
       "      <th></th>\n",
       "      <th>text</th>\n",
       "    </tr>\n",
       "    <tr>\n",
       "      <th>topic</th>\n",
       "      <th></th>\n",
       "    </tr>\n",
       "  </thead>\n",
       "  <tbody>\n",
       "    <tr>\n",
       "      <th>airline support</th>\n",
       "      <td>8468</td>\n",
       "    </tr>\n",
       "    <tr>\n",
       "      <th>australian elections</th>\n",
       "      <td>10000</td>\n",
       "    </tr>\n",
       "    <tr>\n",
       "      <th>chatgpt</th>\n",
       "      <td>10000</td>\n",
       "    </tr>\n",
       "    <tr>\n",
       "      <th>climate change</th>\n",
       "      <td>10000</td>\n",
       "    </tr>\n",
       "    <tr>\n",
       "      <th>covid19</th>\n",
       "      <td>10000</td>\n",
       "    </tr>\n",
       "    <tr>\n",
       "      <th>fifa world cup</th>\n",
       "      <td>6854</td>\n",
       "    </tr>\n",
       "    <tr>\n",
       "      <th>self-driving cars</th>\n",
       "      <td>4497</td>\n",
       "    </tr>\n",
       "    <tr>\n",
       "      <th>stock market crash</th>\n",
       "      <td>10000</td>\n",
       "    </tr>\n",
       "    <tr>\n",
       "      <th>weather</th>\n",
       "      <td>587</td>\n",
       "    </tr>\n",
       "  </tbody>\n",
       "</table>\n",
       "</div>"
      ],
      "text/plain": [
       "                       text\n",
       "topic                      \n",
       "airline support        8468\n",
       "australian elections  10000\n",
       "chatgpt               10000\n",
       "climate change        10000\n",
       "covid19               10000\n",
       "fifa world cup         6854\n",
       "self-driving cars      4497\n",
       "stock market crash    10000\n",
       "weather                 587"
      ]
     },
     "execution_count": 4,
     "metadata": {},
     "output_type": "execute_result"
    }
   ],
   "source": [
    "dataset.groupby('topic').nunique()[['text']]"
   ]
  },
  {
   "cell_type": "markdown",
   "id": "2bee3c3a-feb5-4d7e-bce8-74871fdaf50e",
   "metadata": {},
   "source": [
    "Explore random tweets"
   ]
  },
  {
   "cell_type": "code",
   "execution_count": 5,
   "id": "584f1823-e11b-4c30-8e4b-44f29c0cc391",
   "metadata": {
    "execution": {
     "iopub.execute_input": "2024-01-09T21:35:11.043761Z",
     "iopub.status.busy": "2024-01-09T21:35:11.043279Z",
     "iopub.status.idle": "2024-01-09T21:35:11.075081Z",
     "shell.execute_reply": "2024-01-09T21:35:11.074328Z",
     "shell.execute_reply.started": "2024-01-09T21:35:11.043742Z"
    }
   },
   "outputs": [
    {
     "data": {
      "text/html": [
       "<div>\n",
       "<style scoped>\n",
       "    .dataframe tbody tr th:only-of-type {\n",
       "        vertical-align: middle;\n",
       "    }\n",
       "\n",
       "    .dataframe tbody tr th {\n",
       "        vertical-align: top;\n",
       "    }\n",
       "\n",
       "    .dataframe thead th {\n",
       "        text-align: right;\n",
       "    }\n",
       "</style>\n",
       "<table border=\"1\" class=\"dataframe\">\n",
       "  <thead>\n",
       "    <tr style=\"text-align: right;\">\n",
       "      <th></th>\n",
       "      <th>text</th>\n",
       "      <th>topic</th>\n",
       "    </tr>\n",
       "  </thead>\n",
       "  <tbody>\n",
       "    <tr>\n",
       "      <th>11734</th>\n",
       "      <td>The unintended consequences of driverless cars may be bigger cities, less fuel. Cool story in @qz | http://t.co/IUqfpLO5sg | via @mims #IoT</td>\n",
       "      <td>self-driving cars</td>\n",
       "    </tr>\n",
       "    <tr>\n",
       "      <th>5918</th>\n",
       "      <td>Nigerian government ratifies two global treaties on climate change - Official https://t.co/0VTZYoXgxA</td>\n",
       "      <td>climate change</td>\n",
       "    </tr>\n",
       "    <tr>\n",
       "      <th>52338</th>\n",
       "      <td>So what we have to learn about  &amp; #Crypto?\\n\\nImho:\\nPoints 4 and 5 demonstrate the importance of cryptocurrencies and crypto assets in today's global economy.</td>\n",
       "      <td>chatgpt</td>\n",
       "    </tr>\n",
       "    <tr>\n",
       "      <th>28835</th>\n",
       "      <td>Can someone explain me that offside call?</td>\n",
       "      <td>fifa world cup</td>\n",
       "    </tr>\n",
       "    <tr>\n",
       "      <th>70319</th>\n",
       "      <td>Market Makers made trillions in 2021 from bulls buying calls that expired OTM \\n\\nLet’s not make this mistake again. \\n\\n#stocks  $bbig $amc $gme</td>\n",
       "      <td>stock market crash</td>\n",
       "    </tr>\n",
       "  </tbody>\n",
       "</table>\n",
       "</div>"
      ],
      "text/plain": [
       "                                                                                                                                                                  text  \\\n",
       "11734                      The unintended consequences of driverless cars may be bigger cities, less fuel. Cool story in @qz | http://t.co/IUqfpLO5sg | via @mims #IoT   \n",
       "5918                                                             Nigerian government ratifies two global treaties on climate change - Official https://t.co/0VTZYoXgxA   \n",
       "52338  So what we have to learn about  & #Crypto?\\n\\nImho:\\nPoints 4 and 5 demonstrate the importance of cryptocurrencies and crypto assets in today's global economy.   \n",
       "28835                                                                                                                       Can someone explain me that offside call?    \n",
       "70319                Market Makers made trillions in 2021 from bulls buying calls that expired OTM \\n\\nLet’s not make this mistake again. \\n\\n#stocks  $bbig $amc $gme   \n",
       "\n",
       "                    topic  \n",
       "11734   self-driving cars  \n",
       "5918       climate change  \n",
       "52338             chatgpt  \n",
       "28835      fifa world cup  \n",
       "70319  stock market crash  "
      ]
     },
     "execution_count": 5,
     "metadata": {},
     "output_type": "execute_result"
    }
   ],
   "source": [
    "dataset[['text', 'topic']].sample(5)\n",
    "# dataset[dataset['topic'] == 'stock market crash'][['text', 'topic']].sample(5)"
   ]
  },
  {
   "cell_type": "code",
   "execution_count": 6,
   "id": "de14e62a-5de4-4837-81c8-ac17cd4d627f",
   "metadata": {
    "execution": {
     "iopub.execute_input": "2024-01-09T21:35:11.076008Z",
     "iopub.status.busy": "2024-01-09T21:35:11.075832Z",
     "iopub.status.idle": "2024-01-09T21:35:11.117822Z",
     "shell.execute_reply": "2024-01-09T21:35:11.117238Z",
     "shell.execute_reply.started": "2024-01-09T21:35:11.075993Z"
    }
   },
   "outputs": [],
   "source": [
    "topics = dataset['topic']\n",
    "topics_unique, clusters_true = np.unique(topics, return_inverse=True)\n",
    "n_tweets = len(dataset['text'])\n",
    "n_topics = len(topics_unique)"
   ]
  },
  {
   "cell_type": "markdown",
   "id": "f47e7a47-9397-4d36-8f63-723723e73400",
   "metadata": {},
   "source": [
    "# Preprocessing"
   ]
  },
  {
   "cell_type": "markdown",
   "id": "fb08f981-111d-4262-8d25-f32433d5a71d",
   "metadata": {},
   "source": [
    "Prepare regex, tokenizer and lemmatizer"
   ]
  },
  {
   "cell_type": "code",
   "execution_count": 7,
   "id": "8770ad09-cae6-46b0-8cdd-44feba1b913f",
   "metadata": {
    "execution": {
     "iopub.execute_input": "2024-01-09T21:35:11.118838Z",
     "iopub.status.busy": "2024-01-09T21:35:11.118653Z",
     "iopub.status.idle": "2024-01-09T21:35:14.417223Z",
     "shell.execute_reply": "2024-01-09T21:35:14.416514Z",
     "shell.execute_reply.started": "2024-01-09T21:35:11.118822Z"
    }
   },
   "outputs": [],
   "source": [
    "import itertools\n",
    "from collections import Counter\n",
    "\n",
    "import regex as re\n",
    "import spacy\n",
    "from spacy.tokenizer import _get_regex_pattern\n",
    "from sklearn.feature_extraction.text import CountVectorizer\n",
    "import emoji\n",
    "\n",
    "LOWERCASE_ALPHABET = {'a','b','c','d','e','f','g','h','i','j','k','l','m','n','o','p','q','r','s','t','u','v','w','x','y','z'}\n",
    "ALLOWED_CHARS = LOWERCASE_ALPHABET.union(set('#@%'))\n",
    "\n",
    "def filter_string(s):\n",
    "    return ''.join(c for c in s if c in ALLOWED_CHARS or emoji.is_emoji(c))\n",
    "    \n",
    "nlp = spacy.load('en_core_web_md', exclude=['toc2vec', 'parser', 'ner'])\n",
    "re_token_match = _get_regex_pattern(nlp.Defaults.token_match)\n",
    "\n",
    "re_token_match = f'({re_token_match}|#\\S+|@\\S+)'  # match hashtags, mentions as one token\n",
    "nlp.tokenizer.token_match = re.compile(re_token_match).match\n",
    "\n",
    "re_link = \"(?i)\\b((?:https?://|www\\d{0,3}[.]|[a-z0-9.\\-]+[.][a-z]{2,4}/)(?:[^\\s()<>]+|\\(([^\\s()<>]+|(\\([^\\s()<>]+\\)))*\\))+(?:\\(([^\\s()<>]+|(\\([^\\s()<>]+\\)))*\\)|[^\\s`!()\\[\\]{};:'\\\".,<>?«»“”‘’]))\"\n",
    "re_link = re.compile('({re_link}|http\\S*)')\n",
    "re_number = re.compile('\\d+(?:[\\./]\\d+)?')"
   ]
  },
  {
   "cell_type": "markdown",
   "id": "751d5b83-ed35-4679-a666-2f6105b1753a",
   "metadata": {},
   "source": [
    "Tokenize/preprocess tweets"
   ]
  },
  {
   "cell_type": "code",
   "execution_count": 8,
   "id": "4ab26212-6f3d-4cd4-b80d-794666f8279e",
   "metadata": {
    "execution": {
     "iopub.execute_input": "2024-01-09T21:35:14.418832Z",
     "iopub.status.busy": "2024-01-09T21:35:14.418203Z",
     "iopub.status.idle": "2024-01-09T21:36:00.546037Z",
     "shell.execute_reply": "2024-01-09T21:36:00.545253Z",
     "shell.execute_reply.started": "2024-01-09T21:35:14.418812Z"
    }
   },
   "outputs": [
    {
     "name": "stdout",
     "output_type": "stream",
     "text": [
      "elapsed time: 45s\n",
      "corpus size: 956267\n",
      "vocabulary size: 16264\n",
      "most common tokens: %number:23132, %link:13585, change:9987, climate:8428, people:6317, chat:5527, gpt:5504, like:5360, time:5227, market:4980\n",
      "least common tokens: #votethemallout%number:3, #utility:3, #dpro:3, doge:3, @ethernitychain:3, @lindyli:3, traders:3, #nftcollector:3, @cryptoworld%number:3, #yieldfarming:3\n"
     ]
    }
   ],
   "source": [
    "MIN_DF = 3\n",
    "MAX_DF = 0.5\n",
    "MOST = 10\n",
    "\n",
    "tweets = dataset['text'].tolist()\n",
    "tweets_tokenized = [None] * n_tweets\n",
    "\n",
    "timer.start()\n",
    "for i, tweet in enumerate(nlp.pipe(dataset['text'], n_process=-1, batch_size=1024)):\n",
    "    tokens = [t.lemma_.lower() for t in tweet if not t.is_stop]\n",
    "    tokens = [re.sub(re_link, '%link', t) for t in tokens]\n",
    "    tokens = [re.sub(re_number, '%number', t) for t in tokens]\n",
    "    tokens = [filter_string(t) for t in tokens]\n",
    "    tokens = [t for t in tokens if len(t) > 1]\n",
    "    tweets_tokenized[i] = tokens\n",
    "print(f'elapsed time: {timer.pause():.0f}s')\n",
    "\n",
    "cv = CountVectorizer(\n",
    "    min_df=MIN_DF,\n",
    "    max_df=MAX_DF,\n",
    "    lowercase=False, \n",
    "    tokenizer=lambda x: x,\n",
    "    token_pattern=None,\n",
    ")\n",
    "cv.fit(tweets_tokenized)\n",
    "vocabulary = cv.vocabulary_\n",
    "tweets_tokenized = [[t for t in ts if t in vocabulary] for ts in tweets_tokenized]\n",
    "\n",
    "counter = Counter(itertools.chain.from_iterable(tweets_tokenized))\n",
    "print(f'corpus size: {sum(counter.values())}')\n",
    "print(f'vocabulary size: {len(counter.keys())}')\n",
    "print(f'most common tokens: {format_counter(counter.most_common(MOST))}')\n",
    "print(f'least common tokens: {format_counter(counter.most_common()[-MOST:])}')"
   ]
  },
  {
   "cell_type": "markdown",
   "id": "ae9af6e0-48cf-4adb-9a89-eae202472788",
   "metadata": {},
   "source": [
    "Was the preprocessing step done correctly? Check specific tweets manually"
   ]
  },
  {
   "cell_type": "code",
   "execution_count": 9,
   "id": "0dc0c902-32cb-4332-938f-f11bc827cb0b",
   "metadata": {
    "execution": {
     "iopub.execute_input": "2024-01-09T21:36:00.547431Z",
     "iopub.status.busy": "2024-01-09T21:36:00.547152Z",
     "iopub.status.idle": "2024-01-09T21:36:00.598175Z",
     "shell.execute_reply": "2024-01-09T21:36:00.597449Z",
     "shell.execute_reply.started": "2024-01-09T21:36:00.547403Z"
    }
   },
   "outputs": [
    {
     "name": "stdout",
     "output_type": "stream",
     "text": [
      "Artificial Intelligence has everybody talking, thanks to #AI tools like #ChatGPT which have shown massive user growth. To understand how the rise of AI could be captured by ETF investors, our latest podcast invited a very special guest: ChatGPT. https://t.co/uJxykBbDh3\n",
      "\n",
      "'artificial' 'intelligence' 'everybody' 'talk' 'thank' '#ai' 'tool' 'like' '#chatgpt' 'show' 'massive' 'user' 'growth' 'understand' 'rise' 'ai' 'capture' 'etf' 'investor' 'late' 'podcast' 'invite' 'special' 'guest' 'chatgpt' '%link' \n",
      "\n",
      "tweet id: 59889\n"
     ]
    }
   ],
   "source": [
    "# id = 7007\n",
    "id = rng.integers(0, n_tweets)\n",
    "print(dataset.loc[id, 'text'] + '\\n')\n",
    "for t in tweets_tokenized[id]:\n",
    "    print('\\'' + t + '\\'', end=' ')\n",
    "print(f'\\n\\ntweet id: {id}')"
   ]
  },
  {
   "cell_type": "markdown",
   "id": "2cf59071-5acb-435c-a25b-4f2cb6eff941",
   "metadata": {},
   "source": [
    "# End-to-end Approaches"
   ]
  },
  {
   "cell_type": "markdown",
   "id": "42b5821a-ce4d-47f6-b350-45ae730ed590",
   "metadata": {
    "execution": {
     "iopub.execute_input": "2024-01-07T22:19:49.761186Z",
     "iopub.status.busy": "2024-01-07T22:19:49.760666Z",
     "iopub.status.idle": "2024-01-07T22:19:49.816348Z",
     "shell.execute_reply": "2024-01-07T22:19:49.815650Z",
     "shell.execute_reply.started": "2024-01-07T22:19:49.761164Z"
    }
   },
   "source": [
    "### Latent Dirichlet Allocation"
   ]
  },
  {
   "cell_type": "code",
   "execution_count": 10,
   "id": "d1d8f62b-8e92-4f6a-a8e1-5af7cdcda90a",
   "metadata": {
    "execution": {
     "iopub.execute_input": "2024-01-09T12:31:27.493411Z",
     "iopub.status.busy": "2024-01-09T12:31:27.493219Z",
     "iopub.status.idle": "2024-01-09T12:32:53.564124Z",
     "shell.execute_reply": "2024-01-09T12:32:53.563517Z",
     "shell.execute_reply.started": "2024-01-09T12:31:27.493394Z"
    }
   },
   "outputs": [
    {
     "name": "stdout",
     "output_type": "stream",
     "text": [
      "elapsed time: 86s\n",
      "ari: 0.23699867930695967\n",
      "cluster distribution: [12270  3995 14213  5638  2021  7598 11042  3758  9871]\n"
     ]
    }
   ],
   "source": [
    "import gensim\n",
    "import gensim.corpora as corpora\n",
    "from gensim.models.ldamodel import LdaModel\n",
    "label='lda'\n",
    "embeddings = None\n",
    "\n",
    "timer.start(0)\n",
    "id2word = corpora.Dictionary(tweets_tokenized)\n",
    "corpus = [id2word.doc2bow(tweet_tokens) for tweet_tokens in tweets_tokenized]\n",
    "lda = LdaModel(\n",
    "    corpus, n_topics, id2word,\n",
    "    passes=10, \n",
    "    # iterations=100,\n",
    "    # alpha='auto',\n",
    "    random_state=SEED,\n",
    ")\n",
    "clusters = np.argmax(gensim.matutils.corpus2csc(lda.get_document_topics(corpus)).T.toarray(), axis=-1)\n",
    "print(f'elapsed time: {timer.pause(0):.0f}s')\n",
    "print(f'ari: {adjusted_rand_score(clusters_true, clusters)}')\n",
    "print(f'cluster distribution: {np.unique(clusters, return_counts=True)[1]}')"
   ]
  },
  {
   "cell_type": "markdown",
   "id": "9a6ad881",
   "metadata": {},
   "source": [
    "# Text Embeddings"
   ]
  },
  {
   "cell_type": "markdown",
   "id": "cdc2afd6",
   "metadata": {},
   "source": [
    "### TF-IDF"
   ]
  },
  {
   "cell_type": "code",
   "execution_count": 13,
   "id": "d5f76f0d-83d9-4159-98e2-c1a92b47f686",
   "metadata": {
    "execution": {
     "iopub.execute_input": "2024-01-09T21:49:46.889842Z",
     "iopub.status.busy": "2024-01-09T21:49:46.889085Z",
     "iopub.status.idle": "2024-01-09T21:49:47.340002Z",
     "shell.execute_reply": "2024-01-09T21:49:47.339466Z",
     "shell.execute_reply.started": "2024-01-09T21:49:46.889801Z"
    }
   },
   "outputs": [
    {
     "name": "stdout",
     "output_type": "stream",
     "text": [
      "elapsed time: 0s\n",
      "embedding size: 16264\n",
      "most common stop words (they have low DF): \n"
     ]
    }
   ],
   "source": [
    "from sklearn.feature_extraction.text import TfidfVectorizer\n",
    "text_embedding_label = 'tfidf'\n",
    "\n",
    "timer.start(0)\n",
    "tfidf = TfidfVectorizer(\n",
    "    min_df=3,\n",
    "    max_df=0.5,\n",
    "    sublinear_tf=True,\n",
    "    tokenizer=lambda x: x, lowercase=False,  # use custom tokenization (and pre-processing)\n",
    ")\n",
    "embedds_raw = tfidf.fit_transform(tweets_tokenized)\n",
    "print(f'elapsed time: {timer.pause(0):.0f}s')\n",
    "\n",
    "print(f'embedding size: {embedds_raw.shape[1]}')\n",
    "print(f'most common stop words (they have low DF): {format_counter(Counter({t: counter.get(t, 0) for t in tfidf.stop_words_}).most_common(10))}')"
   ]
  },
  {
   "cell_type": "markdown",
   "id": "e4246186-b076-4797-a117-4b5fe458bf05",
   "metadata": {},
   "source": [
    "### Word2Vec"
   ]
  },
  {
   "cell_type": "code",
   "execution_count": 14,
   "id": "05f5a7fb-a803-41f1-be15-666bd1cba945",
   "metadata": {
    "execution": {
     "iopub.execute_input": "2024-01-09T11:00:35.175697Z",
     "iopub.status.busy": "2024-01-09T11:00:35.175042Z",
     "iopub.status.idle": "2024-01-09T11:01:45.479483Z",
     "shell.execute_reply": "2024-01-09T11:01:45.478838Z",
     "shell.execute_reply.started": "2024-01-09T11:00:35.175666Z"
    }
   },
   "outputs": [
    {
     "name": "stdout",
     "output_type": "stream",
     "text": [
      "elapsed time: 70s\n",
      "Word2Vec<vocab=11620, vector_size=300, alpha=0.03>\n"
     ]
    }
   ],
   "source": [
    "from gensim.models.word2vec import Word2Vec\n",
    "train_model = True\n",
    "text_embedding_label = 'word2vec'\n",
    "\n",
    "timer.start(0)\n",
    "if train_model:\n",
    "    model = Word2Vec(\n",
    "        tweets_tokenized, sg=1, hs=1, negative=0,\n",
    "        vector_size=300,\n",
    "        epochs=10,\n",
    "        alpha=0.03, \n",
    "        # window=8,\n",
    "        # min_count=10,\n",
    "        seed=SEED, workers=N_CPU,\n",
    "    )\n",
    "else:\n",
    "    model = Word2Vec.load(model_path(text_embedding_label + '.model'))\n",
    "\n",
    "# compute mean embedding vector for every tweet\n",
    "zero_vec = np.zeros(len(model.wv[0]), dtype=np.float32)\n",
    "embedds_raw = np.array([model.wv.get_mean_vector(ts, pre_normalize=True, post_normalize=True) if len(ts) > 0 else zero_vec for ts in tweets_tokenized])\n",
    "print(f'elapsed time: {timer.pause(0):.0f}s')\n",
    "\n",
    "text_embedding_label += str(embedds_raw.shape[1])\n",
    "print(model)"
   ]
  },
  {
   "cell_type": "code",
   "execution_count": 128,
   "id": "9d37e437-2538-40d7-baf9-21d6dfe209df",
   "metadata": {
    "execution": {
     "iopub.execute_input": "2024-01-08T20:15:23.828723Z",
     "iopub.status.busy": "2024-01-08T20:15:23.828102Z",
     "iopub.status.idle": "2024-01-08T20:15:23.951934Z",
     "shell.execute_reply": "2024-01-08T20:15:23.951259Z",
     "shell.execute_reply.started": "2024-01-08T20:15:23.828704Z"
    }
   },
   "outputs": [],
   "source": [
    "model: model.save(model_path(text_embedding_label + '.model'))"
   ]
  },
  {
   "cell_type": "markdown",
   "id": "9eaec5c9-e276-4c4f-85ea-50e2e86beba2",
   "metadata": {},
   "source": [
    "### FastText"
   ]
  },
  {
   "cell_type": "code",
   "execution_count": 26,
   "id": "5b3d10f5-714c-4eae-a108-b49a1cb09a6c",
   "metadata": {
    "execution": {
     "iopub.execute_input": "2024-01-08T22:45:34.905918Z",
     "iopub.status.busy": "2024-01-08T22:45:34.905297Z",
     "iopub.status.idle": "2024-01-08T22:46:02.340893Z",
     "shell.execute_reply": "2024-01-08T22:46:02.340095Z",
     "shell.execute_reply.started": "2024-01-08T22:45:34.905887Z"
    }
   },
   "outputs": [
    {
     "name": "stdout",
     "output_type": "stream",
     "text": [
      "elapsed time: 27s\n",
      "FastText<vocab=11620, vector_size=100, alpha=0.03>\n"
     ]
    }
   ],
   "source": [
    "from gensim.models.fasttext import FastText\n",
    "text_embedding_label = 'fasttext'\n",
    "\n",
    "timer.start(0)\n",
    "model = FastText(\n",
    "    tweets_tokenized, sg=1, hs=1, negative=0,\n",
    "    vector_size=100,\n",
    "    min_n=3,\n",
    "    alpha=0.03,  # 0.025\n",
    "    # window=8,\n",
    "    # min_count=10,\n",
    "    seed=SEED, workers=N_CPU,\n",
    ")\n",
    "zero_vec = np.zeros(len(model.wv[0]), dtype=np.float32)\n",
    "embedds_raw = np.array([model.wv.get_mean_vector(ts, pre_normalize=True, post_normalize=True) if len(ts) > 0 else zero_vec for ts in tweets_tokenized])\n",
    "print(f'elapsed time: {timer.pause(0):.0f}s')\n",
    "\n",
    "text_embedding_label += str(embedds_raw.shape[1])\n",
    "print(model)"
   ]
  },
  {
   "cell_type": "markdown",
   "id": "5f4782d5-4b57-4e38-96ed-60ca791f047a",
   "metadata": {},
   "source": [
    "### Doc2Vec"
   ]
  },
  {
   "cell_type": "code",
   "execution_count": 20,
   "id": "173b0fe4-1f5d-4492-8e2e-9ac86295d2c1",
   "metadata": {
    "execution": {
     "iopub.execute_input": "2024-01-09T13:23:27.569047Z",
     "iopub.status.busy": "2024-01-09T13:23:27.568412Z",
     "iopub.status.idle": "2024-01-09T13:34:53.465487Z",
     "shell.execute_reply": "2024-01-09T13:34:53.464722Z",
     "shell.execute_reply.started": "2024-01-09T13:23:27.569026Z"
    }
   },
   "outputs": [
    {
     "name": "stdout",
     "output_type": "stream",
     "text": [
      "elapsed time: 686s\n",
      "Doc2Vec<dm/m,d10,n5,w5,mc5,s0.001,t8>\n"
     ]
    }
   ],
   "source": [
    "from gensim.models.doc2vec import Doc2Vec, TaggedDocument\n",
    "text_embedding_label = 'doc2vec'\n",
    "\n",
    "timer.start(0)\n",
    "model = Doc2Vec(\n",
    "    [TaggedDocument(doc, [i]) for i, doc in enumerate(tweets_tokenized)], dm=1,\n",
    "    vector_size=10,\n",
    "    epochs=100,\n",
    "    alpha=0.03,\n",
    "    # hs=1, negative=0,\n",
    "    # window=8,\n",
    "    # min_count=10,\n",
    "    seed=SEED, workers=N_CPU,\n",
    ")\n",
    "embedds_raw = np.array([model.dv[i] for i in range(n_tweets)])\n",
    "print(f'elapsed time: {timer.pause(0):.0f}s')\n",
    "\n",
    "text_embedding_label += str(embedds_raw.shape[1])\n",
    "print(model)"
   ]
  },
  {
   "cell_type": "markdown",
   "id": "32eec07a-171e-49bf-bdb8-6ebdf3da8391",
   "metadata": {
    "execution": {
     "iopub.execute_input": "2024-01-08T11:23:03.460137Z",
     "iopub.status.busy": "2024-01-08T11:23:03.459587Z",
     "iopub.status.idle": "2024-01-08T11:23:03.519744Z",
     "shell.execute_reply": "2024-01-08T11:23:03.519122Z",
     "shell.execute_reply.started": "2024-01-08T11:23:03.460112Z"
    }
   },
   "source": [
    "### Universal Sentence Encoder"
   ]
  },
  {
   "cell_type": "code",
   "execution_count": 147,
   "id": "9dc278e0-9c85-42e3-b5ff-74e1e31d3cc1",
   "metadata": {
    "execution": {
     "iopub.execute_input": "2024-01-09T07:36:00.041522Z",
     "iopub.status.busy": "2024-01-09T07:36:00.040839Z",
     "iopub.status.idle": "2024-01-09T07:36:20.087639Z",
     "shell.execute_reply": "2024-01-09T07:36:20.086870Z",
     "shell.execute_reply.started": "2024-01-09T07:36:00.041490Z"
    }
   },
   "outputs": [
    {
     "name": "stdout",
     "output_type": "stream",
     "text": [
      "elapsed time: 6s\n",
      "embedding size: 512\n",
      "avg/min/max embedding norm: 1.00/1.00/1.00\n"
     ]
    }
   ],
   "source": [
    "import tensorflow_hub as hub \n",
    "text_embedding_label = 'use'\n",
    "model = hub.load('https://tfhub.dev/google/universal-sentence-encoder/4')\n",
    "\n",
    "timer.start(0)\n",
    "embedds_raw = model(tweets).numpy()\n",
    "print(f'elapsed time: {timer.pause(0):.0f}s')\n",
    "\n",
    "print(f'embedding size: {embedds_raw.shape[1]}')\n",
    "norms = np.linalg.norm(embedds_raw, axis=1); print(f'avg/min/max embedding norm: {np.mean(norms):.2f}/{np.min(norms):.2f}/{np.max(norms):.2f}')"
   ]
  },
  {
   "cell_type": "markdown",
   "id": "9f6f2fc3-8b1d-42a4-89b8-a068cae829eb",
   "metadata": {},
   "source": [
    "### Distil-RoBERTa"
   ]
  },
  {
   "cell_type": "code",
   "execution_count": 25,
   "id": "64cd3241-fc89-41df-89c6-c3d044746bfa",
   "metadata": {
    "execution": {
     "iopub.execute_input": "2024-01-09T06:02:00.252153Z",
     "iopub.status.busy": "2024-01-09T06:02:00.251556Z",
     "iopub.status.idle": "2024-01-09T06:03:03.063468Z",
     "shell.execute_reply": "2024-01-09T06:03:03.062769Z",
     "shell.execute_reply.started": "2024-01-09T06:02:00.252126Z"
    }
   },
   "outputs": [
    {
     "data": {
      "application/vnd.jupyter.widget-view+json": {
       "model_id": "a3ed20e8b9c14cadbb542d33d60cad17",
       "version_major": 2,
       "version_minor": 0
      },
      "text/plain": [
       "Downloading (…)\".gitattributes\";:   0%|          | 0.00/737 [00:00<?, ?B/s]"
      ]
     },
     "metadata": {},
     "output_type": "display_data"
    },
    {
     "data": {
      "application/vnd.jupyter.widget-view+json": {
       "model_id": "c1eb30579c334de1a1e1feecc7994ef8",
       "version_major": 2,
       "version_minor": 0
      },
      "text/plain": [
       "Downloading (…)ooling/config.json\";:   0%|          | 0.00/190 [00:00<?, ?B/s]"
      ]
     },
     "metadata": {},
     "output_type": "display_data"
    },
    {
     "data": {
      "application/vnd.jupyter.widget-view+json": {
       "model_id": "8e2b91d74d294f4c9e5133ccc5183b8c",
       "version_major": 2,
       "version_minor": 0
      },
      "text/plain": [
       "Downloading (…)\"README.md\";:   0%|          | 0.00/10.3k [00:00<?, ?B/s]"
      ]
     },
     "metadata": {},
     "output_type": "display_data"
    },
    {
     "data": {
      "application/vnd.jupyter.widget-view+json": {
       "model_id": "21920f1fcb994481980e34c37febcf1f",
       "version_major": 2,
       "version_minor": 0
      },
      "text/plain": [
       "Downloading (…)\"config.json\";:   0%|          | 0.00/653 [00:00<?, ?B/s]"
      ]
     },
     "metadata": {},
     "output_type": "display_data"
    },
    {
     "data": {
      "application/vnd.jupyter.widget-view+json": {
       "model_id": "93e647e7053348a18a35f9081c9b5b15",
       "version_major": 2,
       "version_minor": 0
      },
      "text/plain": [
       "Downloading (…)_transformers.json\";:   0%|          | 0.00/116 [00:00<?, ?B/s]"
      ]
     },
     "metadata": {},
     "output_type": "display_data"
    },
    {
     "data": {
      "application/vnd.jupyter.widget-view+json": {
       "model_id": "83ff388f13f943e09a473247c3781dd4",
       "version_major": 2,
       "version_minor": 0
      },
      "text/plain": [
       "Downloading (…)\"data_config.json\";:   0%|          | 0.00/15.7k [00:00<?, ?B/s]"
      ]
     },
     "metadata": {},
     "output_type": "display_data"
    },
    {
     "data": {
      "application/vnd.jupyter.widget-view+json": {
       "model_id": "a2a37eb9cb50423e82a8691da43adae2",
       "version_major": 2,
       "version_minor": 0
      },
      "text/plain": [
       "Downloading (…)\"merges.txt\";:   0%|          | 0.00/456k [00:00<?, ?B/s]"
      ]
     },
     "metadata": {},
     "output_type": "display_data"
    },
    {
     "data": {
      "application/vnd.jupyter.widget-view+json": {
       "model_id": "ab357bfa742d499d98dffd6a4f15dbdf",
       "version_major": 2,
       "version_minor": 0
      },
      "text/plain": [
       "Downloading (…)\"pytorch_model.bin\";:   0%|          | 0.00/329M [00:00<?, ?B/s]"
      ]
     },
     "metadata": {},
     "output_type": "display_data"
    },
    {
     "data": {
      "application/vnd.jupyter.widget-view+json": {
       "model_id": "cc73a814cce9440db6fc19efbf481df7",
       "version_major": 2,
       "version_minor": 0
      },
      "text/plain": [
       "Downloading (…)e_bert_config.json\";:   0%|          | 0.00/53.0 [00:00<?, ?B/s]"
      ]
     },
     "metadata": {},
     "output_type": "display_data"
    },
    {
     "data": {
      "application/vnd.jupyter.widget-view+json": {
       "model_id": "922fc9820fbc42b7a58813984d3d383c",
       "version_major": 2,
       "version_minor": 0
      },
      "text/plain": [
       "Downloading (…)al_tokens_map.json\";:   0%|          | 0.00/239 [00:00<?, ?B/s]"
      ]
     },
     "metadata": {},
     "output_type": "display_data"
    },
    {
     "data": {
      "application/vnd.jupyter.widget-view+json": {
       "model_id": "da6db7f286704291b4be1b3b921bc9da",
       "version_major": 2,
       "version_minor": 0
      },
      "text/plain": [
       "Downloading (…)\"tokenizer.json\";:   0%|          | 0.00/1.36M [00:00<?, ?B/s]"
      ]
     },
     "metadata": {},
     "output_type": "display_data"
    },
    {
     "data": {
      "application/vnd.jupyter.widget-view+json": {
       "model_id": "ac9577b27a7a4fdfbac9d5c99d398bf1",
       "version_major": 2,
       "version_minor": 0
      },
      "text/plain": [
       "Downloading (…)enizer_config.json\";:   0%|          | 0.00/333 [00:00<?, ?B/s]"
      ]
     },
     "metadata": {},
     "output_type": "display_data"
    },
    {
     "data": {
      "application/vnd.jupyter.widget-view+json": {
       "model_id": "270e304d1f034fc0891987c9dd45f847",
       "version_major": 2,
       "version_minor": 0
      },
      "text/plain": [
       "Downloading (…)\"train_script.py\";:   0%|          | 0.00/13.1k [00:00<?, ?B/s]"
      ]
     },
     "metadata": {},
     "output_type": "display_data"
    },
    {
     "data": {
      "application/vnd.jupyter.widget-view+json": {
       "model_id": "05db91ecd9054567b4c440dd5f29ff84",
       "version_major": 2,
       "version_minor": 0
      },
      "text/plain": [
       "Downloading (…)\"vocab.json\";:   0%|          | 0.00/798k [00:00<?, ?B/s]"
      ]
     },
     "metadata": {},
     "output_type": "display_data"
    },
    {
     "data": {
      "application/vnd.jupyter.widget-view+json": {
       "model_id": "2e76761f9167439fb12483367b812e38",
       "version_major": 2,
       "version_minor": 0
      },
      "text/plain": [
       "Downloading (…)\"modules.json\";:   0%|          | 0.00/349 [00:00<?, ?B/s]"
      ]
     },
     "metadata": {},
     "output_type": "display_data"
    },
    {
     "data": {
      "application/vnd.jupyter.widget-view+json": {
       "model_id": "603db01085e54fcdbbab32d6c47ae20c",
       "version_major": 2,
       "version_minor": 0
      },
      "text/plain": [
       "Batches:   0%|          | 0/2201 [00:00<?, ?it/s]"
      ]
     },
     "metadata": {},
     "output_type": "display_data"
    },
    {
     "name": "stdout",
     "output_type": "stream",
     "text": [
      "elapsed time: 57s\n",
      "embedding size: 768\n",
      "avg/min/max embedding norm: 1.00/1.00/1.00\n"
     ]
    }
   ],
   "source": [
    "from sentence_transformers import SentenceTransformer\n",
    "text_embedding_label = 'distilroberta'\n",
    "model = SentenceTransformer('all-distilroberta-v1') \n",
    "\n",
    "timer.start(0)\n",
    "embedds_raw = model.encode(tweets, show_progress_bar=True)\n",
    "print(f'elapsed time: {timer.pause(0):.0f}s')\n",
    "\n",
    "print(f'embedding size: {embedds_raw.shape[1]}')\n",
    "norms = np.linalg.norm(embedds_raw, axis=1); print(f'avg/min/max embedding norm: {np.mean(norms):.2f}/{np.min(norms):.2f}/{np.max(norms):.2f}')"
   ]
  },
  {
   "cell_type": "markdown",
   "id": "cecab898-188c-4b7a-9f7b-e632a0996cc1",
   "metadata": {},
   "source": [
    "### MPNet"
   ]
  },
  {
   "cell_type": "code",
   "execution_count": 10,
   "id": "3c6a93ce-c23d-49ee-b020-fbdc399a158f",
   "metadata": {
    "execution": {
     "iopub.execute_input": "2024-01-09T10:05:26.497682Z",
     "iopub.status.busy": "2024-01-09T10:05:26.497416Z",
     "iopub.status.idle": "2024-01-09T10:07:21.685071Z",
     "shell.execute_reply": "2024-01-09T10:07:21.684365Z",
     "shell.execute_reply.started": "2024-01-09T10:05:26.497663Z"
    }
   },
   "outputs": [
    {
     "data": {
      "application/vnd.jupyter.widget-view+json": {
       "model_id": "24bb622e421e42edaa6703a74d16b4fe",
       "version_major": 2,
       "version_minor": 0
      },
      "text/plain": [
       "Downloading (…)\".gitattributes\";:   0%|          | 0.00/1.18k [00:00<?, ?B/s]"
      ]
     },
     "metadata": {},
     "output_type": "display_data"
    },
    {
     "data": {
      "application/vnd.jupyter.widget-view+json": {
       "model_id": "6c79e6843a5948c08816d6224ce32f05",
       "version_major": 2,
       "version_minor": 0
      },
      "text/plain": [
       "Downloading (…)ooling/config.json\";:   0%|          | 0.00/190 [00:00<?, ?B/s]"
      ]
     },
     "metadata": {},
     "output_type": "display_data"
    },
    {
     "data": {
      "application/vnd.jupyter.widget-view+json": {
       "model_id": "221f705ac78941f785aefb7e434fb996",
       "version_major": 2,
       "version_minor": 0
      },
      "text/plain": [
       "Downloading (…)\"README.md\";:   0%|          | 0.00/10.6k [00:00<?, ?B/s]"
      ]
     },
     "metadata": {},
     "output_type": "display_data"
    },
    {
     "data": {
      "application/vnd.jupyter.widget-view+json": {
       "model_id": "e0c3efbb0d6946639591672cf456c3b0",
       "version_major": 2,
       "version_minor": 0
      },
      "text/plain": [
       "Downloading (…)\"config.json\";:   0%|          | 0.00/571 [00:00<?, ?B/s]"
      ]
     },
     "metadata": {},
     "output_type": "display_data"
    },
    {
     "data": {
      "application/vnd.jupyter.widget-view+json": {
       "model_id": "ea1542f221794fb8a511411b3153c3e8",
       "version_major": 2,
       "version_minor": 0
      },
      "text/plain": [
       "Downloading (…)_transformers.json\";:   0%|          | 0.00/116 [00:00<?, ?B/s]"
      ]
     },
     "metadata": {},
     "output_type": "display_data"
    },
    {
     "data": {
      "application/vnd.jupyter.widget-view+json": {
       "model_id": "c6ea38ede7b34e9d9a6923b33103d67f",
       "version_major": 2,
       "version_minor": 0
      },
      "text/plain": [
       "Downloading (…)\"data_config.json\";:   0%|          | 0.00/39.3k [00:00<?, ?B/s]"
      ]
     },
     "metadata": {},
     "output_type": "display_data"
    },
    {
     "data": {
      "application/vnd.jupyter.widget-view+json": {
       "model_id": "67086a006aed44f2be85c45c49673bfc",
       "version_major": 2,
       "version_minor": 0
      },
      "text/plain": [
       "Downloading (…)\"pytorch_model.bin\";:   0%|          | 0.00/438M [00:00<?, ?B/s]"
      ]
     },
     "metadata": {},
     "output_type": "display_data"
    },
    {
     "data": {
      "application/vnd.jupyter.widget-view+json": {
       "model_id": "d7b2ef81e5654793997741a27d7d7c2b",
       "version_major": 2,
       "version_minor": 0
      },
      "text/plain": [
       "Downloading (…)e_bert_config.json\";:   0%|          | 0.00/53.0 [00:00<?, ?B/s]"
      ]
     },
     "metadata": {},
     "output_type": "display_data"
    },
    {
     "data": {
      "application/vnd.jupyter.widget-view+json": {
       "model_id": "fabf58dac3df4165ad0a1f759b0ca18e",
       "version_major": 2,
       "version_minor": 0
      },
      "text/plain": [
       "Downloading (…)al_tokens_map.json\";:   0%|          | 0.00/239 [00:00<?, ?B/s]"
      ]
     },
     "metadata": {},
     "output_type": "display_data"
    },
    {
     "data": {
      "application/vnd.jupyter.widget-view+json": {
       "model_id": "ab322335e26647eca7fef08f62b33d55",
       "version_major": 2,
       "version_minor": 0
      },
      "text/plain": [
       "Downloading (…)\"tokenizer.json\";:   0%|          | 0.00/466k [00:00<?, ?B/s]"
      ]
     },
     "metadata": {},
     "output_type": "display_data"
    },
    {
     "data": {
      "application/vnd.jupyter.widget-view+json": {
       "model_id": "da0d70c32feb4dd7958a1141cda44abe",
       "version_major": 2,
       "version_minor": 0
      },
      "text/plain": [
       "Downloading (…)enizer_config.json\";:   0%|          | 0.00/363 [00:00<?, ?B/s]"
      ]
     },
     "metadata": {},
     "output_type": "display_data"
    },
    {
     "data": {
      "application/vnd.jupyter.widget-view+json": {
       "model_id": "b07cba38f63f4fd8b368a678de116ec4",
       "version_major": 2,
       "version_minor": 0
      },
      "text/plain": [
       "Downloading (…)\"train_script.py\";:   0%|          | 0.00/13.1k [00:00<?, ?B/s]"
      ]
     },
     "metadata": {},
     "output_type": "display_data"
    },
    {
     "data": {
      "application/vnd.jupyter.widget-view+json": {
       "model_id": "e5bf196a8b584076959dc9f34bc02d9f",
       "version_major": 2,
       "version_minor": 0
      },
      "text/plain": [
       "Downloading (…)\"vocab.txt\";:   0%|          | 0.00/232k [00:00<?, ?B/s]"
      ]
     },
     "metadata": {},
     "output_type": "display_data"
    },
    {
     "data": {
      "application/vnd.jupyter.widget-view+json": {
       "model_id": "927d768d18244a4ea43a6be083f7b6e6",
       "version_major": 2,
       "version_minor": 0
      },
      "text/plain": [
       "Downloading (…)\"modules.json\";:   0%|          | 0.00/349 [00:00<?, ?B/s]"
      ]
     },
     "metadata": {},
     "output_type": "display_data"
    },
    {
     "data": {
      "application/vnd.jupyter.widget-view+json": {
       "model_id": "fa4f476e9e114276b75e58d579261684",
       "version_major": 2,
       "version_minor": 0
      },
      "text/plain": [
       "Batches:   0%|          | 0/2201 [00:00<?, ?it/s]"
      ]
     },
     "metadata": {},
     "output_type": "display_data"
    },
    {
     "name": "stdout",
     "output_type": "stream",
     "text": [
      "elapsed time: 110s\n",
      "embedding size: 768\n",
      "avg/min/max embedding norm: 1.00/1.00/1.00\n"
     ]
    }
   ],
   "source": [
    "from sentence_transformers import SentenceTransformer\n",
    "text_embedding_label = 'mpnet'\n",
    "model = SentenceTransformer('all-mpnet-base-v2') \n",
    "\n",
    "timer.start(0)\n",
    "embedds_raw = model.encode(tweets, show_progress_bar=True)\n",
    "print(f'elapsed time: {timer.pause(0):.0f}s')\n",
    "\n",
    "print(f'embedding size: {embedds_raw.shape[1]}')\n",
    "norms = np.linalg.norm(embedds_raw, axis=1); print(f'avg/min/max embedding norm: {np.mean(norms):.2f}/{np.min(norms):.2f}/{np.max(norms):.2f}')"
   ]
  },
  {
   "cell_type": "markdown",
   "id": "aaed0d26-a8b3-49f8-8909-635b64f948de",
   "metadata": {},
   "source": [
    "# Dimensionality Reduction"
   ]
  },
  {
   "cell_type": "markdown",
   "id": "e8a2f685-7d7b-4079-a877-8001b5f99224",
   "metadata": {
    "execution": {
     "iopub.execute_input": "2024-01-02T03:59:48.339358Z",
     "iopub.status.busy": "2024-01-02T03:59:48.338939Z",
     "iopub.status.idle": "2024-01-02T03:59:48.342257Z",
     "shell.execute_reply": "2024-01-02T03:59:48.341611Z",
     "shell.execute_reply.started": "2024-01-02T03:59:48.339329Z"
    }
   },
   "source": [
    "### No reduction"
   ]
  },
  {
   "cell_type": "code",
   "execution_count": 21,
   "id": "d072b837-fdb2-4a64-b8e9-0377b811a841",
   "metadata": {
    "execution": {
     "iopub.execute_input": "2024-01-09T13:34:53.466740Z",
     "iopub.status.busy": "2024-01-09T13:34:53.466557Z",
     "iopub.status.idle": "2024-01-09T13:34:53.514403Z",
     "shell.execute_reply": "2024-01-09T13:34:53.513503Z",
     "shell.execute_reply.started": "2024-01-09T13:34:53.466724Z"
    }
   },
   "outputs": [
    {
     "name": "stdout",
     "output_type": "stream",
     "text": [
      "embedding size: 10\n"
     ]
    }
   ],
   "source": [
    "reduction_label = ''\n",
    "timer.set(1, 0)\n",
    "embedds = embedds_raw if isinstance(embedds_raw, np.ndarray) else embedds_raw.toarray()\n",
    "print(f'embedding size: {embedds.shape[1]}')"
   ]
  },
  {
   "cell_type": "markdown",
   "id": "36e0e0c9-a851-48f9-903f-5990d041489f",
   "metadata": {
    "execution": {
     "iopub.execute_input": "2024-01-02T03:49:42.550221Z",
     "iopub.status.busy": "2024-01-02T03:49:42.549679Z",
     "iopub.status.idle": "2024-01-02T03:49:42.553491Z",
     "shell.execute_reply": "2024-01-02T03:49:42.552903Z",
     "shell.execute_reply.started": "2024-01-02T03:49:42.550198Z"
    }
   },
   "source": [
    "### Truncated SVD"
   ]
  },
  {
   "cell_type": "code",
   "execution_count": 179,
   "id": "ab2674ee-9713-49d2-81bb-da950cf818a2",
   "metadata": {
    "execution": {
     "iopub.execute_input": "2024-01-09T09:06:34.554231Z",
     "iopub.status.busy": "2024-01-09T09:06:34.553983Z",
     "iopub.status.idle": "2024-01-09T09:06:35.124516Z",
     "shell.execute_reply": "2024-01-09T09:06:35.123765Z",
     "shell.execute_reply.started": "2024-01-09T09:06:34.554212Z"
    }
   },
   "outputs": [
    {
     "name": "stdout",
     "output_type": "stream",
     "text": [
      "elapsed time: 1s\n",
      "embedding size: 10\n",
      "avg/min/max embedding norm: 1.00/0.00/1.00\n",
      "explained variance of the svd step: 4.5%\n"
     ]
    }
   ],
   "source": [
    "from sklearn.pipeline import make_pipeline\n",
    "from sklearn.decomposition import TruncatedSVD\n",
    "from sklearn.preprocessing import Normalizer\n",
    "reduction_label = 'svd'\n",
    "\n",
    "timer.start(1)\n",
    "pipe = make_pipeline(\n",
    "    TruncatedSVD(n_components=10, random_state=SEED), \n",
    "    Normalizer(copy=False),\n",
    ")\n",
    "embedds = pipe.fit_transform(embedds_raw)\n",
    "print(f'elapsed time: {timer.pause(1):.0f}s')\n",
    "\n",
    "reduction_label += str(embedds.shape[1])\n",
    "print(f'embedding size: {embedds.shape[1]}')\n",
    "norms = np.linalg.norm(embedds, axis=1); print(f'avg/min/max embedding norm: {np.mean(norms):.2f}/{np.min(norms):.2f}/{np.max(norms):.2f}')\n",
    "print(f'explained variance of the svd step: {pipe[0].explained_variance_ratio_.sum() * 100:.1f}%')"
   ]
  },
  {
   "cell_type": "markdown",
   "id": "6a5a17f0-c66f-4724-8deb-75cb2375654c",
   "metadata": {
    "execution": {
     "iopub.execute_input": "2024-01-02T06:20:40.192917Z",
     "iopub.status.busy": "2024-01-02T06:20:40.192628Z",
     "iopub.status.idle": "2024-01-02T06:20:40.195755Z",
     "shell.execute_reply": "2024-01-02T06:20:40.195183Z",
     "shell.execute_reply.started": "2024-01-02T06:20:40.192897Z"
    }
   },
   "source": [
    "### UMAP"
   ]
  },
  {
   "cell_type": "code",
   "execution_count": 14,
   "id": "4e0478d1-b2be-4dc2-bd47-68deca5fb41e",
   "metadata": {
    "execution": {
     "iopub.execute_input": "2024-01-09T21:49:53.394721Z",
     "iopub.status.busy": "2024-01-09T21:49:53.394216Z",
     "iopub.status.idle": "2024-01-09T21:51:25.310083Z",
     "shell.execute_reply": "2024-01-09T21:51:25.309617Z",
     "shell.execute_reply.started": "2024-01-09T21:49:53.394701Z"
    }
   },
   "outputs": [
    {
     "name": "stdout",
     "output_type": "stream",
     "text": [
      "elapsed time: 88s\n",
      "embedding size: 5\n",
      "avg/min/max embedding norm: 4.25/1.69/7.49\n"
     ]
    }
   ],
   "source": [
    "import umap\n",
    "reduction_label = 'umap'\n",
    "\n",
    "timer.start(1)\n",
    "embedds = umap.UMAP(\n",
    "    n_components=5,\n",
    "    n_neighbors=15,\n",
    "    # metric='cosine',  # correlation\n",
    "    # n_epochs=1000,\n",
    "    # verbose=True,\n",
    ").fit_transform(embedds_raw)\n",
    "print(f'elapsed time: {timer.pause(1):.0f}s')\n",
    "\n",
    "reduction_label += str(embedds.shape[1])\n",
    "print(f'embedding size: {embedds.shape[1]}')\n",
    "norms = np.linalg.norm(embedds, axis=1); print(f'avg/min/max embedding norm: {np.mean(norms):.2f}/{np.min(norms):.2f}/{np.max(norms):.2f}')"
   ]
  },
  {
   "cell_type": "markdown",
   "id": "01452937-066c-4c1b-9841-142a03a2992b",
   "metadata": {},
   "source": [
    "# Clustering"
   ]
  },
  {
   "cell_type": "markdown",
   "id": "8aa99653-f691-49b8-9b42-9c4451fd7690",
   "metadata": {},
   "source": [
    "### K-Means"
   ]
  },
  {
   "cell_type": "code",
   "execution_count": 24,
   "id": "b24c9d63-9509-4556-bb68-f15fa456d1bf",
   "metadata": {
    "execution": {
     "iopub.execute_input": "2024-01-09T13:46:30.226025Z",
     "iopub.status.busy": "2024-01-09T13:46:30.225242Z",
     "iopub.status.idle": "2024-01-09T13:46:53.052082Z",
     "shell.execute_reply": "2024-01-09T13:46:53.051227Z",
     "shell.execute_reply.started": "2024-01-09T13:46:30.226004Z"
    }
   },
   "outputs": [
    {
     "name": "stdout",
     "output_type": "stream",
     "text": [
      "elapsed time: 23s, total running time: 753s\n",
      "doc2vec10+umap5+kmeans ari: 0.18639334153342788\n",
      "cluster distribution: [6814 8104 7806 7795 7774 7119 8577 7200 9217]\n"
     ]
    }
   ],
   "source": [
    "from sklearn.cluster import MiniBatchKMeans\n",
    "trials = 5\n",
    "label = get_pipeline_label('kmeans')\n",
    "\n",
    "timer.start(2)\n",
    "best_clusters, best_loss = None, None\n",
    "for i in range(trials):\n",
    "    model = MiniBatchKMeans(\n",
    "        n_clusters=n_topics,\n",
    "        batch_size=2048,  # as a rule of thumb: 256 * number of cores\n",
    "        random_state=SEED+i,\n",
    "    )\n",
    "    clusters = model.fit_predict(embedds)\n",
    "    if best_loss is None or model.inertia_ < best_loss: best_clusters, best_loss = clusters, model.inertia_\n",
    "clusters = best_clusters\n",
    "print(f'elapsed time: {timer.pause(2):.0f}s, total running time: {timer.get_total_time():.0f}s')\n",
    "\n",
    "print(f'{label} ari: {adjusted_rand_score(clusters_true, clusters)}')\n",
    "print(f'cluster distribution: {np.unique(clusters, return_counts=True)[1]}')"
   ]
  },
  {
   "cell_type": "markdown",
   "id": "f7a2ebf6-3509-4fc5-87ac-82cca100333d",
   "metadata": {
    "execution": {
     "iopub.execute_input": "2024-01-07T21:19:01.100536Z",
     "iopub.status.busy": "2024-01-07T21:19:01.100257Z",
     "iopub.status.idle": "2024-01-07T21:19:01.154215Z",
     "shell.execute_reply": "2024-01-07T21:19:01.153332Z",
     "shell.execute_reply.started": "2024-01-07T21:19:01.100512Z"
    }
   },
   "source": [
    "### CLARA"
   ]
  },
  {
   "cell_type": "code",
   "execution_count": 15,
   "id": "271574bc-f313-4626-9d67-4a749f53ab2b",
   "metadata": {
    "execution": {
     "iopub.execute_input": "2024-01-09T21:51:25.311776Z",
     "iopub.status.busy": "2024-01-09T21:51:25.311097Z",
     "iopub.status.idle": "2024-01-09T21:51:27.819430Z",
     "shell.execute_reply": "2024-01-09T21:51:27.818911Z",
     "shell.execute_reply.started": "2024-01-09T21:51:25.311754Z"
    }
   },
   "outputs": [
    {
     "name": "stdout",
     "output_type": "stream",
     "text": [
      "elapsed time: 2s, total running time: 91s\n",
      "tfidf+umap5+clara ari: 0.8093381255331071\n",
      "cluster distribution: [ 3524  8148  9454  8831  9408  6875  9292  4682 10192]\n"
     ]
    }
   ],
   "source": [
    "from sklearn_extra.cluster import CLARA\n",
    "trials = 5\n",
    "label = get_pipeline_label('clara')\n",
    "\n",
    "timer.start(2)\n",
    "best_clusters, best_loss = None, None\n",
    "for i in range(trials):\n",
    "    model = CLARA(\n",
    "        n_clusters=n_topics,\n",
    "        n_sampling=300,\n",
    "        # max_iter=1000,\n",
    "        # n_sampling_iter=5,\n",
    "        random_state=SEED+i,\n",
    "    )\n",
    "    clusters = model.fit_predict(embedds)\n",
    "    if best_loss is None or model.inertia_ < best_loss: best_clusters, best_loss = clusters, model.inertia_\n",
    "clusters = best_clusters\n",
    "print(f'elapsed time: {timer.pause(2):.0f}s, total running time: {timer.get_total_time():.0f}s')\n",
    "\n",
    "print(f'{label} ari: {adjusted_rand_score(clusters_true, clusters)}')\n",
    "print(f'cluster distribution: {np.unique(clusters, return_counts=True)[1]}')\n"
   ]
  },
  {
   "cell_type": "markdown",
   "id": "3ce1c8f8-90a8-4cce-9302-1a51f7a9582b",
   "metadata": {},
   "source": [
    "### HDBSCAN"
   ]
  },
  {
   "cell_type": "code",
   "execution_count": 16,
   "id": "f1ff4c6d-2e40-46ca-b0e0-f47cf7c410f4",
   "metadata": {
    "execution": {
     "iopub.execute_input": "2024-01-09T21:51:27.848933Z",
     "iopub.status.busy": "2024-01-09T21:51:27.820249Z",
     "iopub.status.idle": "2024-01-09T21:53:17.780330Z",
     "shell.execute_reply": "2024-01-09T21:53:17.779684Z",
     "shell.execute_reply.started": "2024-01-09T21:51:27.848893Z"
    }
   },
   "outputs": [
    {
     "name": "stdout",
     "output_type": "stream",
     "text": [
      "elapsed time: 110s, total running time: 198s\n",
      "tfidf+umap5+hdbscan ari: 0.8314262674981449\n",
      "cluster distribution: [ 4685  7200  8940  9417 10011  9434  8845   581 11293]\n",
      "noise samples detected: 9842\n",
      "cluster persistences (how stable it is): ['0.32', '0.24', '0.21', '0.21', '0.17', '0.16', '0.14', '0.12', '0.09']\n"
     ]
    }
   ],
   "source": [
    "from hdbscan import flat\n",
    "label = get_pipeline_label('hdbscan')\n",
    "\n",
    "timer.start(2)\n",
    "hdbscan = flat.HDBSCAN_flat(\n",
    "    embedds, n_topics,\n",
    "    min_cluster_size=200,\n",
    "    # min_samples=50,\n",
    ") \n",
    "clusters = hdbscan.labels_\n",
    "n_noise = np.sum(clusters == -1)\n",
    "# remove noise assignments by assigning the nearest sample class\n",
    "noise_mask = clusters == -1 \n",
    "min_dist_idxs = np.argsort(np.linalg.norm(np.expand_dims(embedds[noise_mask], 1) - np.expand_dims(embedds, 0), axis=-1), axis=-1)\n",
    "for i, noise_idx in enumerate(np.where(noise_mask)[0]):\n",
    "    for min_dist_idx in min_dist_idxs[i]:\n",
    "        if clusters[min_dist_idx] != -1:\n",
    "            clusters[noise_idx] = clusters[min_dist_idx]\n",
    "            break\n",
    "print(f'elapsed time: {timer.pause(2):.0f}s, total running time: {timer.get_total_time():.0f}s')\n",
    "\n",
    "print(f'{label} ari: {adjusted_rand_score(clusters_true, clusters)}')\n",
    "print(f'cluster distribution: {np.unique(clusters, return_counts=True)[1]}')\n",
    "print(f'noise samples detected: {n_noise}')\n",
    "print(f'cluster persistences (how stable it is): {format_list(hdbscan.cluster_persistence_)}')"
   ]
  },
  {
   "cell_type": "markdown",
   "id": "0a9f3389-a968-4624-ad27-0d7c9dc826ae",
   "metadata": {
    "execution": {
     "iopub.execute_input": "2024-01-07T21:58:24.154396Z",
     "iopub.status.busy": "2024-01-07T21:58:24.153725Z",
     "iopub.status.idle": "2024-01-07T21:58:24.200170Z",
     "shell.execute_reply": "2024-01-07T21:58:24.199650Z",
     "shell.execute_reply.started": "2024-01-07T21:58:24.154371Z"
    }
   },
   "source": [
    "### Gaussian Mixture Models"
   ]
  },
  {
   "cell_type": "code",
   "execution_count": null,
   "id": "b1d546b6-cc79-4e53-aafd-6e471d30ec25",
   "metadata": {},
   "outputs": [],
   "source": [
    "from sklearn.mixture import GaussianMixture \n",
    "update_random_state = 0\n",
    "label = get_pipeline_label('gmm')\n",
    "\n",
    "timer.start(2)\n",
    "clusters = GaussianMixture(\n",
    "    n_components=n_topics,\n",
    "    max_iter=200,\n",
    "    init_params='k-means++',\n",
    "    verbose=True,\n",
    "    random_state=SEED+update_random_state,\n",
    ").fit_predict(embedds)\n",
    "print(f'elapsed time: {timer.pause(2):.0f}s, total running time: {timer.get_total_time():.0f}s')\n",
    "\n",
    "print(f'{label} ari: {adjusted_rand_score(clusters_true, clusters)}')\n",
    "print(f'cluster distribution: {np.unique(clusters, return_counts=True)[1]}')"
   ]
  },
  {
   "cell_type": "markdown",
   "id": "1dd0be0b-4146-4bd4-9ca0-603df592a4f7",
   "metadata": {},
   "source": [
    "# Saving"
   ]
  },
  {
   "cell_type": "markdown",
   "id": "0246b9d4-5f14-40e5-9846-af184d899d95",
   "metadata": {},
   "source": [
    "Evaluation (quite expensive)"
   ]
  },
  {
   "cell_type": "code",
   "execution_count": 17,
   "id": "330a000c-76b8-47f1-9bbe-c0e8b6216434",
   "metadata": {
    "execution": {
     "iopub.execute_input": "2024-01-09T21:58:28.986776Z",
     "iopub.status.busy": "2024-01-09T21:58:28.986515Z",
     "iopub.status.idle": "2024-01-09T21:59:34.313644Z",
     "shell.execute_reply": "2024-01-09T21:59:34.313086Z",
     "shell.execute_reply.started": "2024-01-09T21:58:28.986753Z"
    }
   },
   "outputs": [
    {
     "name": "stdout",
     "output_type": "stream",
     "text": [
      "cluster distribution: [ 8940  8845  9417 11293  9434  7200  4685 10011   581]\n"
     ]
    },
    {
     "data": {
      "text/html": [
       "<div>\n",
       "<style scoped>\n",
       "    .dataframe tbody tr th:only-of-type {\n",
       "        vertical-align: middle;\n",
       "    }\n",
       "\n",
       "    .dataframe tbody tr th {\n",
       "        vertical-align: top;\n",
       "    }\n",
       "\n",
       "    .dataframe thead th {\n",
       "        text-align: right;\n",
       "    }\n",
       "</style>\n",
       "<table border=\"1\" class=\"dataframe\">\n",
       "  <thead>\n",
       "    <tr style=\"text-align: right;\">\n",
       "      <th></th>\n",
       "      <th>ari</th>\n",
       "      <th>ami</th>\n",
       "      <th>acc</th>\n",
       "      <th>f1</th>\n",
       "      <th>rec</th>\n",
       "      <th>pre</th>\n",
       "      <th>mrec</th>\n",
       "      <th>mpre</th>\n",
       "      <th>ss</th>\n",
       "      <th>vm</th>\n",
       "      <th>h</th>\n",
       "      <th>c</th>\n",
       "    </tr>\n",
       "  </thead>\n",
       "  <tbody>\n",
       "    <tr>\n",
       "      <th>tfidf+umap5+hdbscan</th>\n",
       "      <td>0.831</td>\n",
       "      <td>0.816</td>\n",
       "      <td>0.925</td>\n",
       "      <td>0.917</td>\n",
       "      <td>0.920</td>\n",
       "      <td>0.917</td>\n",
       "      <td>0.825</td>\n",
       "      <td>0.833</td>\n",
       "      <td>0.574</td>\n",
       "      <td>0.816</td>\n",
       "      <td>0.816</td>\n",
       "      <td>0.815</td>\n",
       "    </tr>\n",
       "  </tbody>\n",
       "</table>\n",
       "</div>"
      ],
      "text/plain": [
       "                      ari   ami   acc    f1   rec   pre  mrec  mpre    ss  \\\n",
       "tfidf+umap5+hdbscan 0.831 0.816 0.925 0.917 0.920 0.917 0.825 0.833 0.574   \n",
       "\n",
       "                       vm     h     c  \n",
       "tfidf+umap5+hdbscan 0.816 0.816 0.815  "
      ]
     },
     "execution_count": 17,
     "metadata": {},
     "output_type": "execute_result"
    }
   ],
   "source": [
    "clusters = match_cluster_labels(clusters_true, clusters)\n",
    "metrics_ = compute_metrics(clusters_true, clusters, X=embedds)\n",
    "print(f'cluster distribution: {np.unique(clusters, return_counts=True)[1]}')\n",
    "metrics_to_df(metrics_, label=label)"
   ]
  },
  {
   "cell_type": "markdown",
   "id": "4544e32b-361b-45a9-aa04-e2beafcd5d60",
   "metadata": {},
   "source": [
    "Insert new data"
   ]
  },
  {
   "cell_type": "code",
   "execution_count": 19,
   "id": "3eee8c3f-4917-4bc6-9e3e-995e8bf26c04",
   "metadata": {
    "execution": {
     "iopub.execute_input": "2024-01-09T22:01:13.532341Z",
     "iopub.status.busy": "2024-01-09T22:01:13.531643Z",
     "iopub.status.idle": "2024-01-09T22:01:23.374767Z",
     "shell.execute_reply": "2024-01-09T22:01:23.374134Z",
     "shell.execute_reply.started": "2024-01-09T22:01:13.532318Z"
    }
   },
   "outputs": [
    {
     "data": {
      "text/html": [
       "<div>\n",
       "<style scoped>\n",
       "    .dataframe tbody tr th:only-of-type {\n",
       "        vertical-align: middle;\n",
       "    }\n",
       "\n",
       "    .dataframe tbody tr th {\n",
       "        vertical-align: top;\n",
       "    }\n",
       "\n",
       "    .dataframe thead th {\n",
       "        text-align: right;\n",
       "    }\n",
       "</style>\n",
       "<table border=\"1\" class=\"dataframe\">\n",
       "  <thead>\n",
       "    <tr style=\"text-align: right;\">\n",
       "      <th></th>\n",
       "      <th>ari</th>\n",
       "      <th>ami</th>\n",
       "      <th>acc</th>\n",
       "      <th>f1</th>\n",
       "      <th>rec</th>\n",
       "      <th>pre</th>\n",
       "      <th>mrec</th>\n",
       "      <th>mpre</th>\n",
       "      <th>ss</th>\n",
       "      <th>vm</th>\n",
       "      <th>h</th>\n",
       "      <th>c</th>\n",
       "      <th>time</th>\n",
       "    </tr>\n",
       "  </thead>\n",
       "  <tbody>\n",
       "    <tr>\n",
       "      <th>distilroberta+umap5+hdbscan</th>\n",
       "      <td>0.914</td>\n",
       "      <td>0.898</td>\n",
       "      <td>0.963</td>\n",
       "      <td>0.958</td>\n",
       "      <td>0.959</td>\n",
       "      <td>0.958</td>\n",
       "      <td>0.899</td>\n",
       "      <td>0.901</td>\n",
       "      <td>0.775</td>\n",
       "      <td>0.898</td>\n",
       "      <td>0.899</td>\n",
       "      <td>0.898</td>\n",
       "      <td>132.498</td>\n",
       "    </tr>\n",
       "    <tr>\n",
       "      <th>distilroberta+umap5+gmm</th>\n",
       "      <td>0.908</td>\n",
       "      <td>0.893</td>\n",
       "      <td>0.958</td>\n",
       "      <td>0.937</td>\n",
       "      <td>0.957</td>\n",
       "      <td>0.925</td>\n",
       "      <td>0.906</td>\n",
       "      <td>0.605</td>\n",
       "      <td>0.762</td>\n",
       "      <td>0.893</td>\n",
       "      <td>0.895</td>\n",
       "      <td>0.890</td>\n",
       "      <td>111.622</td>\n",
       "    </tr>\n",
       "    <tr>\n",
       "      <th>word2vec300+umap5+kmeans</th>\n",
       "      <td>0.903</td>\n",
       "      <td>0.885</td>\n",
       "      <td>0.958</td>\n",
       "      <td>0.952</td>\n",
       "      <td>0.951</td>\n",
       "      <td>0.953</td>\n",
       "      <td>0.877</td>\n",
       "      <td>0.886</td>\n",
       "      <td>0.795</td>\n",
       "      <td>0.885</td>\n",
       "      <td>0.885</td>\n",
       "      <td>0.886</td>\n",
       "      <td>133.661</td>\n",
       "    </tr>\n",
       "    <tr>\n",
       "      <th>word2vec300+umap5+hdbscan</th>\n",
       "      <td>0.903</td>\n",
       "      <td>0.885</td>\n",
       "      <td>0.957</td>\n",
       "      <td>0.952</td>\n",
       "      <td>0.951</td>\n",
       "      <td>0.953</td>\n",
       "      <td>0.877</td>\n",
       "      <td>0.888</td>\n",
       "      <td>0.793</td>\n",
       "      <td>0.885</td>\n",
       "      <td>0.885</td>\n",
       "      <td>0.885</td>\n",
       "      <td>145.977</td>\n",
       "    </tr>\n",
       "    <tr>\n",
       "      <th>word2vec100+umap5+kmeans</th>\n",
       "      <td>0.896</td>\n",
       "      <td>0.877</td>\n",
       "      <td>0.954</td>\n",
       "      <td>0.949</td>\n",
       "      <td>0.944</td>\n",
       "      <td>0.954</td>\n",
       "      <td>0.833</td>\n",
       "      <td>0.921</td>\n",
       "      <td>0.786</td>\n",
       "      <td>0.877</td>\n",
       "      <td>0.876</td>\n",
       "      <td>0.878</td>\n",
       "      <td>103.724</td>\n",
       "    </tr>\n",
       "    <tr>\n",
       "      <th>word2vec100+umap5+gmm</th>\n",
       "      <td>0.896</td>\n",
       "      <td>0.877</td>\n",
       "      <td>0.954</td>\n",
       "      <td>0.948</td>\n",
       "      <td>0.944</td>\n",
       "      <td>0.954</td>\n",
       "      <td>0.831</td>\n",
       "      <td>0.922</td>\n",
       "      <td>0.786</td>\n",
       "      <td>0.877</td>\n",
       "      <td>0.876</td>\n",
       "      <td>0.878</td>\n",
       "      <td>104.215</td>\n",
       "    </tr>\n",
       "    <tr>\n",
       "      <th>mpnet+umap5+hdbscan</th>\n",
       "      <td>0.893</td>\n",
       "      <td>0.881</td>\n",
       "      <td>0.946</td>\n",
       "      <td>0.852</td>\n",
       "      <td>0.852</td>\n",
       "      <td>0.852</td>\n",
       "      <td>0.003</td>\n",
       "      <td>0.003</td>\n",
       "      <td>0.748</td>\n",
       "      <td>0.881</td>\n",
       "      <td>0.882</td>\n",
       "      <td>0.881</td>\n",
       "      <td>185.922</td>\n",
       "    </tr>\n",
       "    <tr>\n",
       "      <th>word2vec50+umap5+kmeans</th>\n",
       "      <td>0.882</td>\n",
       "      <td>0.863</td>\n",
       "      <td>0.948</td>\n",
       "      <td>0.938</td>\n",
       "      <td>0.934</td>\n",
       "      <td>0.944</td>\n",
       "      <td>0.789</td>\n",
       "      <td>0.872</td>\n",
       "      <td>0.759</td>\n",
       "      <td>0.863</td>\n",
       "      <td>0.862</td>\n",
       "      <td>0.863</td>\n",
       "      <td>77.976</td>\n",
       "    </tr>\n",
       "    <tr>\n",
       "      <th>mpnet+umap5+kmeans</th>\n",
       "      <td>0.876</td>\n",
       "      <td>0.873</td>\n",
       "      <td>0.926</td>\n",
       "      <td>0.874</td>\n",
       "      <td>0.936</td>\n",
       "      <td>0.877</td>\n",
       "      <td>0.739</td>\n",
       "      <td>0.165</td>\n",
       "      <td>0.748</td>\n",
       "      <td>0.873</td>\n",
       "      <td>0.887</td>\n",
       "      <td>0.860</td>\n",
       "      <td>171.468</td>\n",
       "    </tr>\n",
       "    <tr>\n",
       "      <th>mpnet+umap5+clara</th>\n",
       "      <td>0.875</td>\n",
       "      <td>0.873</td>\n",
       "      <td>0.925</td>\n",
       "      <td>0.872</td>\n",
       "      <td>0.935</td>\n",
       "      <td>0.877</td>\n",
       "      <td>0.726</td>\n",
       "      <td>0.160</td>\n",
       "      <td>0.743</td>\n",
       "      <td>0.873</td>\n",
       "      <td>0.887</td>\n",
       "      <td>0.859</td>\n",
       "      <td>165.597</td>\n",
       "    </tr>\n",
       "    <tr>\n",
       "      <th>distilroberta+umap10+clara</th>\n",
       "      <td>0.871</td>\n",
       "      <td>0.875</td>\n",
       "      <td>0.912</td>\n",
       "      <td>0.836</td>\n",
       "      <td>0.826</td>\n",
       "      <td>0.854</td>\n",
       "      <td>0.002</td>\n",
       "      <td>0.000</td>\n",
       "      <td>0.758</td>\n",
       "      <td>0.875</td>\n",
       "      <td>0.887</td>\n",
       "      <td>0.863</td>\n",
       "      <td>114.126</td>\n",
       "    </tr>\n",
       "    <tr>\n",
       "      <th>mpnet+umap10+kmeans</th>\n",
       "      <td>0.869</td>\n",
       "      <td>0.867</td>\n",
       "      <td>0.923</td>\n",
       "      <td>0.842</td>\n",
       "      <td>0.834</td>\n",
       "      <td>0.854</td>\n",
       "      <td>0.003</td>\n",
       "      <td>0.001</td>\n",
       "      <td>0.769</td>\n",
       "      <td>0.867</td>\n",
       "      <td>0.878</td>\n",
       "      <td>0.857</td>\n",
       "      <td>172.223</td>\n",
       "    </tr>\n",
       "    <tr>\n",
       "      <th>distilroberta+umap5+clara</th>\n",
       "      <td>0.863</td>\n",
       "      <td>0.872</td>\n",
       "      <td>0.901</td>\n",
       "      <td>0.829</td>\n",
       "      <td>0.817</td>\n",
       "      <td>0.850</td>\n",
       "      <td>0.000</td>\n",
       "      <td>0.000</td>\n",
       "      <td>0.766</td>\n",
       "      <td>0.872</td>\n",
       "      <td>0.885</td>\n",
       "      <td>0.859</td>\n",
       "      <td>111.662</td>\n",
       "    </tr>\n",
       "    <tr>\n",
       "      <th>distilroberta+umap10+kmeans</th>\n",
       "      <td>0.862</td>\n",
       "      <td>0.872</td>\n",
       "      <td>0.896</td>\n",
       "      <td>0.826</td>\n",
       "      <td>0.813</td>\n",
       "      <td>0.849</td>\n",
       "      <td>0.000</td>\n",
       "      <td>0.000</td>\n",
       "      <td>0.770</td>\n",
       "      <td>0.872</td>\n",
       "      <td>0.886</td>\n",
       "      <td>0.858</td>\n",
       "      <td>114.287</td>\n",
       "    </tr>\n",
       "    <tr>\n",
       "      <th>distilroberta+umap5+kmeans</th>\n",
       "      <td>0.862</td>\n",
       "      <td>0.872</td>\n",
       "      <td>0.897</td>\n",
       "      <td>0.826</td>\n",
       "      <td>0.813</td>\n",
       "      <td>0.850</td>\n",
       "      <td>0.002</td>\n",
       "      <td>0.000</td>\n",
       "      <td>0.765</td>\n",
       "      <td>0.872</td>\n",
       "      <td>0.886</td>\n",
       "      <td>0.858</td>\n",
       "      <td>110.941</td>\n",
       "    </tr>\n",
       "    <tr>\n",
       "      <th>mpnet+svd50+kmeans</th>\n",
       "      <td>0.835</td>\n",
       "      <td>0.836</td>\n",
       "      <td>0.895</td>\n",
       "      <td>0.828</td>\n",
       "      <td>0.818</td>\n",
       "      <td>0.850</td>\n",
       "      <td>0.072</td>\n",
       "      <td>0.010</td>\n",
       "      <td>0.206</td>\n",
       "      <td>0.836</td>\n",
       "      <td>0.850</td>\n",
       "      <td>0.823</td>\n",
       "      <td>113.398</td>\n",
       "    </tr>\n",
       "    <tr>\n",
       "      <th>tfidf+umap5+hdbscan</th>\n",
       "      <td>0.831</td>\n",
       "      <td>0.816</td>\n",
       "      <td>0.925</td>\n",
       "      <td>0.917</td>\n",
       "      <td>0.920</td>\n",
       "      <td>0.917</td>\n",
       "      <td>0.825</td>\n",
       "      <td>0.833</td>\n",
       "      <td>0.574</td>\n",
       "      <td>0.816</td>\n",
       "      <td>0.816</td>\n",
       "      <td>0.815</td>\n",
       "      <td>198.451</td>\n",
       "    </tr>\n",
       "    <tr>\n",
       "      <th>use+umap5+kmeans</th>\n",
       "      <td>0.828</td>\n",
       "      <td>0.819</td>\n",
       "      <td>0.923</td>\n",
       "      <td>0.921</td>\n",
       "      <td>0.922</td>\n",
       "      <td>0.920</td>\n",
       "      <td>0.857</td>\n",
       "      <td>0.850</td>\n",
       "      <td>0.739</td>\n",
       "      <td>0.819</td>\n",
       "      <td>0.819</td>\n",
       "      <td>0.819</td>\n",
       "      <td>56.144</td>\n",
       "    </tr>\n",
       "    <tr>\n",
       "      <th>use+svd30+kmeans</th>\n",
       "      <td>0.828</td>\n",
       "      <td>0.819</td>\n",
       "      <td>0.923</td>\n",
       "      <td>0.921</td>\n",
       "      <td>0.922</td>\n",
       "      <td>0.920</td>\n",
       "      <td>0.857</td>\n",
       "      <td>0.850</td>\n",
       "      <td>0.739</td>\n",
       "      <td>0.819</td>\n",
       "      <td>0.819</td>\n",
       "      <td>0.819</td>\n",
       "      <td>12.514</td>\n",
       "    </tr>\n",
       "    <tr>\n",
       "      <th>tfidf+umap5+kmeans</th>\n",
       "      <td>0.826</td>\n",
       "      <td>0.808</td>\n",
       "      <td>0.907</td>\n",
       "      <td>0.856</td>\n",
       "      <td>0.917</td>\n",
       "      <td>0.859</td>\n",
       "      <td>0.813</td>\n",
       "      <td>0.157</td>\n",
       "      <td>0.556</td>\n",
       "      <td>0.808</td>\n",
       "      <td>0.821</td>\n",
       "      <td>0.795</td>\n",
       "      <td>75.934</td>\n",
       "    </tr>\n",
       "    <tr>\n",
       "      <th>fasttext100+umap5+kmeans</th>\n",
       "      <td>0.825</td>\n",
       "      <td>0.828</td>\n",
       "      <td>0.876</td>\n",
       "      <td>0.812</td>\n",
       "      <td>0.796</td>\n",
       "      <td>0.839</td>\n",
       "      <td>0.019</td>\n",
       "      <td>0.002</td>\n",
       "      <td>0.677</td>\n",
       "      <td>0.828</td>\n",
       "      <td>0.843</td>\n",
       "      <td>0.814</td>\n",
       "      <td>79.005</td>\n",
       "    </tr>\n",
       "    <tr>\n",
       "      <th>tfidf+umap5+clara</th>\n",
       "      <td>0.818</td>\n",
       "      <td>0.802</td>\n",
       "      <td>0.901</td>\n",
       "      <td>0.833</td>\n",
       "      <td>0.842</td>\n",
       "      <td>0.843</td>\n",
       "      <td>0.264</td>\n",
       "      <td>0.052</td>\n",
       "      <td>0.545</td>\n",
       "      <td>0.802</td>\n",
       "      <td>0.813</td>\n",
       "      <td>0.791</td>\n",
       "      <td>77.735</td>\n",
       "    </tr>\n",
       "    <tr>\n",
       "      <th>word2vec20+umap5+hdbscan</th>\n",
       "      <td>0.802</td>\n",
       "      <td>0.803</td>\n",
       "      <td>0.876</td>\n",
       "      <td>0.810</td>\n",
       "      <td>0.795</td>\n",
       "      <td>0.835</td>\n",
       "      <td>0.010</td>\n",
       "      <td>0.001</td>\n",
       "      <td>0.677</td>\n",
       "      <td>0.803</td>\n",
       "      <td>0.816</td>\n",
       "      <td>0.791</td>\n",
       "      <td>139.200</td>\n",
       "    </tr>\n",
       "    <tr>\n",
       "      <th>word2vec20+umap5+kmeans</th>\n",
       "      <td>0.802</td>\n",
       "      <td>0.803</td>\n",
       "      <td>0.876</td>\n",
       "      <td>0.810</td>\n",
       "      <td>0.795</td>\n",
       "      <td>0.835</td>\n",
       "      <td>0.010</td>\n",
       "      <td>0.001</td>\n",
       "      <td>0.677</td>\n",
       "      <td>0.803</td>\n",
       "      <td>0.816</td>\n",
       "      <td>0.791</td>\n",
       "      <td>71.182</td>\n",
       "    </tr>\n",
       "    <tr>\n",
       "      <th>tfidf+svd50+kmeans</th>\n",
       "      <td>0.749</td>\n",
       "      <td>0.775</td>\n",
       "      <td>0.867</td>\n",
       "      <td>0.795</td>\n",
       "      <td>0.786</td>\n",
       "      <td>0.814</td>\n",
       "      <td>0.031</td>\n",
       "      <td>0.007</td>\n",
       "      <td>0.159</td>\n",
       "      <td>0.775</td>\n",
       "      <td>0.782</td>\n",
       "      <td>0.769</td>\n",
       "      <td>3.244</td>\n",
       "    </tr>\n",
       "    <tr>\n",
       "      <th>lda</th>\n",
       "      <td>0.237</td>\n",
       "      <td>0.295</td>\n",
       "      <td>0.482</td>\n",
       "      <td>0.438</td>\n",
       "      <td>0.479</td>\n",
       "      <td>0.492</td>\n",
       "      <td>0.110</td>\n",
       "      <td>0.039</td>\n",
       "      <td>NaN</td>\n",
       "      <td>0.296</td>\n",
       "      <td>0.294</td>\n",
       "      <td>0.297</td>\n",
       "      <td>83.631</td>\n",
       "    </tr>\n",
       "    <tr>\n",
       "      <th>doc2vec100+umap5+kmeans</th>\n",
       "      <td>0.034</td>\n",
       "      <td>0.062</td>\n",
       "      <td>0.235</td>\n",
       "      <td>0.216</td>\n",
       "      <td>0.211</td>\n",
       "      <td>0.242</td>\n",
       "      <td>0.002</td>\n",
       "      <td>0.001</td>\n",
       "      <td>0.238</td>\n",
       "      <td>0.062</td>\n",
       "      <td>0.062</td>\n",
       "      <td>0.062</td>\n",
       "      <td>142.802</td>\n",
       "    </tr>\n",
       "  </tbody>\n",
       "</table>\n",
       "</div>"
      ],
      "text/plain": [
       "                              ari   ami   acc    f1   rec   pre  mrec  mpre  \\\n",
       "distilroberta+umap5+hdbscan 0.914 0.898 0.963 0.958 0.959 0.958 0.899 0.901   \n",
       "distilroberta+umap5+gmm     0.908 0.893 0.958 0.937 0.957 0.925 0.906 0.605   \n",
       "word2vec300+umap5+kmeans    0.903 0.885 0.958 0.952 0.951 0.953 0.877 0.886   \n",
       "word2vec300+umap5+hdbscan   0.903 0.885 0.957 0.952 0.951 0.953 0.877 0.888   \n",
       "word2vec100+umap5+kmeans    0.896 0.877 0.954 0.949 0.944 0.954 0.833 0.921   \n",
       "word2vec100+umap5+gmm       0.896 0.877 0.954 0.948 0.944 0.954 0.831 0.922   \n",
       "mpnet+umap5+hdbscan         0.893 0.881 0.946 0.852 0.852 0.852 0.003 0.003   \n",
       "word2vec50+umap5+kmeans     0.882 0.863 0.948 0.938 0.934 0.944 0.789 0.872   \n",
       "mpnet+umap5+kmeans          0.876 0.873 0.926 0.874 0.936 0.877 0.739 0.165   \n",
       "mpnet+umap5+clara           0.875 0.873 0.925 0.872 0.935 0.877 0.726 0.160   \n",
       "distilroberta+umap10+clara  0.871 0.875 0.912 0.836 0.826 0.854 0.002 0.000   \n",
       "mpnet+umap10+kmeans         0.869 0.867 0.923 0.842 0.834 0.854 0.003 0.001   \n",
       "distilroberta+umap5+clara   0.863 0.872 0.901 0.829 0.817 0.850 0.000 0.000   \n",
       "distilroberta+umap10+kmeans 0.862 0.872 0.896 0.826 0.813 0.849 0.000 0.000   \n",
       "distilroberta+umap5+kmeans  0.862 0.872 0.897 0.826 0.813 0.850 0.002 0.000   \n",
       "mpnet+svd50+kmeans          0.835 0.836 0.895 0.828 0.818 0.850 0.072 0.010   \n",
       "tfidf+umap5+hdbscan         0.831 0.816 0.925 0.917 0.920 0.917 0.825 0.833   \n",
       "use+umap5+kmeans            0.828 0.819 0.923 0.921 0.922 0.920 0.857 0.850   \n",
       "use+svd30+kmeans            0.828 0.819 0.923 0.921 0.922 0.920 0.857 0.850   \n",
       "tfidf+umap5+kmeans          0.826 0.808 0.907 0.856 0.917 0.859 0.813 0.157   \n",
       "fasttext100+umap5+kmeans    0.825 0.828 0.876 0.812 0.796 0.839 0.019 0.002   \n",
       "tfidf+umap5+clara           0.818 0.802 0.901 0.833 0.842 0.843 0.264 0.052   \n",
       "word2vec20+umap5+hdbscan    0.802 0.803 0.876 0.810 0.795 0.835 0.010 0.001   \n",
       "word2vec20+umap5+kmeans     0.802 0.803 0.876 0.810 0.795 0.835 0.010 0.001   \n",
       "tfidf+svd50+kmeans          0.749 0.775 0.867 0.795 0.786 0.814 0.031 0.007   \n",
       "lda                         0.237 0.295 0.482 0.438 0.479 0.492 0.110 0.039   \n",
       "doc2vec100+umap5+kmeans     0.034 0.062 0.235 0.216 0.211 0.242 0.002 0.001   \n",
       "\n",
       "                               ss    vm     h     c    time  \n",
       "distilroberta+umap5+hdbscan 0.775 0.898 0.899 0.898 132.498  \n",
       "distilroberta+umap5+gmm     0.762 0.893 0.895 0.890 111.622  \n",
       "word2vec300+umap5+kmeans    0.795 0.885 0.885 0.886 133.661  \n",
       "word2vec300+umap5+hdbscan   0.793 0.885 0.885 0.885 145.977  \n",
       "word2vec100+umap5+kmeans    0.786 0.877 0.876 0.878 103.724  \n",
       "word2vec100+umap5+gmm       0.786 0.877 0.876 0.878 104.215  \n",
       "mpnet+umap5+hdbscan         0.748 0.881 0.882 0.881 185.922  \n",
       "word2vec50+umap5+kmeans     0.759 0.863 0.862 0.863  77.976  \n",
       "mpnet+umap5+kmeans          0.748 0.873 0.887 0.860 171.468  \n",
       "mpnet+umap5+clara           0.743 0.873 0.887 0.859 165.597  \n",
       "distilroberta+umap10+clara  0.758 0.875 0.887 0.863 114.126  \n",
       "mpnet+umap10+kmeans         0.769 0.867 0.878 0.857 172.223  \n",
       "distilroberta+umap5+clara   0.766 0.872 0.885 0.859 111.662  \n",
       "distilroberta+umap10+kmeans 0.770 0.872 0.886 0.858 114.287  \n",
       "distilroberta+umap5+kmeans  0.765 0.872 0.886 0.858 110.941  \n",
       "mpnet+svd50+kmeans          0.206 0.836 0.850 0.823 113.398  \n",
       "tfidf+umap5+hdbscan         0.574 0.816 0.816 0.815 198.451  \n",
       "use+umap5+kmeans            0.739 0.819 0.819 0.819  56.144  \n",
       "use+svd30+kmeans            0.739 0.819 0.819 0.819  12.514  \n",
       "tfidf+umap5+kmeans          0.556 0.808 0.821 0.795  75.934  \n",
       "fasttext100+umap5+kmeans    0.677 0.828 0.843 0.814  79.005  \n",
       "tfidf+umap5+clara           0.545 0.802 0.813 0.791  77.735  \n",
       "word2vec20+umap5+hdbscan    0.677 0.803 0.816 0.791 139.200  \n",
       "word2vec20+umap5+kmeans     0.677 0.803 0.816 0.791  71.182  \n",
       "tfidf+svd50+kmeans          0.159 0.775 0.782 0.769   3.244  \n",
       "lda                           NaN 0.296 0.294 0.297  83.631  \n",
       "doc2vec100+umap5+kmeans     0.238 0.062 0.062 0.062 142.802  "
      ]
     },
     "execution_count": 19,
     "metadata": {},
     "output_type": "execute_result"
    }
   ],
   "source": [
    "er.insert(label, (*metrics_, timer.get_total_time()), embedds, clusters, condition_fun=lambda row, df: row[0] > df.loc[label, 'ari'])\n",
    "\n",
    "# er.df.loc[er.df.index.str.startswith('word2vec')].sort_values('ari', ascending=False)\n",
    "er.df.sort_values('ari', ascending=False)"
   ]
  },
  {
   "cell_type": "markdown",
   "id": "07f7474a-2f94-4cf4-85f4-a96ef5a48e7a",
   "metadata": {},
   "source": [
    "Remove values based on either key or condition"
   ]
  },
  {
   "cell_type": "code",
   "execution_count": null,
   "id": "9059ff40-58fc-47ec-98ac-a2c3c32004ea",
   "metadata": {
    "execution": {
     "iopub.execute_input": "2024-01-08T18:05:38.997604Z",
     "iopub.status.busy": "2024-01-08T18:05:38.997276Z",
     "iopub.status.idle": "2024-01-08T18:05:39.135908Z",
     "shell.execute_reply": "2024-01-08T18:05:39.135328Z",
     "shell.execute_reply.started": "2024-01-08T18:05:38.997580Z"
    }
   },
   "outputs": [],
   "source": [
    "# er.drop(key='fasttext+umap5+kmeans')\n",
    "er.drop(condition_fun=lambda row: row['ari'] < 0.8)"
   ]
  },
  {
   "cell_type": "code",
   "execution_count": 11,
   "id": "14cbc94b-72bb-44ff-a7a6-a68fc083bdc9",
   "metadata": {
    "execution": {
     "iopub.execute_input": "2024-01-09T21:45:20.224496Z",
     "iopub.status.busy": "2024-01-09T21:45:20.223877Z",
     "iopub.status.idle": "2024-01-09T21:45:20.278292Z",
     "shell.execute_reply": "2024-01-09T21:45:20.277552Z",
     "shell.execute_reply.started": "2024-01-09T21:45:20.224471Z"
    }
   },
   "outputs": [
    {
     "data": {
      "text/html": [
       "<div>\n",
       "<style scoped>\n",
       "    .dataframe tbody tr th:only-of-type {\n",
       "        vertical-align: middle;\n",
       "    }\n",
       "\n",
       "    .dataframe tbody tr th {\n",
       "        vertical-align: top;\n",
       "    }\n",
       "\n",
       "    .dataframe thead th {\n",
       "        text-align: right;\n",
       "    }\n",
       "</style>\n",
       "<table border=\"1\" class=\"dataframe\">\n",
       "  <thead>\n",
       "    <tr style=\"text-align: right;\">\n",
       "      <th></th>\n",
       "      <th>ari</th>\n",
       "      <th>ami</th>\n",
       "      <th>acc</th>\n",
       "      <th>f1</th>\n",
       "      <th>rec</th>\n",
       "      <th>pre</th>\n",
       "      <th>mrec</th>\n",
       "      <th>mpre</th>\n",
       "      <th>ss</th>\n",
       "      <th>vm</th>\n",
       "      <th>h</th>\n",
       "      <th>c</th>\n",
       "      <th>time</th>\n",
       "    </tr>\n",
       "  </thead>\n",
       "  <tbody>\n",
       "    <tr>\n",
       "      <th>distilroberta+umap10+clara</th>\n",
       "      <td>0.871</td>\n",
       "      <td>0.875</td>\n",
       "      <td>0.912</td>\n",
       "      <td>0.836</td>\n",
       "      <td>0.826</td>\n",
       "      <td>0.854</td>\n",
       "      <td>0.002</td>\n",
       "      <td>0.000</td>\n",
       "      <td>0.758</td>\n",
       "      <td>0.875</td>\n",
       "      <td>0.887</td>\n",
       "      <td>0.863</td>\n",
       "      <td>114.126</td>\n",
       "    </tr>\n",
       "    <tr>\n",
       "      <th>distilroberta+umap10+kmeans</th>\n",
       "      <td>0.862</td>\n",
       "      <td>0.872</td>\n",
       "      <td>0.896</td>\n",
       "      <td>0.826</td>\n",
       "      <td>0.813</td>\n",
       "      <td>0.849</td>\n",
       "      <td>0.000</td>\n",
       "      <td>0.000</td>\n",
       "      <td>0.770</td>\n",
       "      <td>0.872</td>\n",
       "      <td>0.886</td>\n",
       "      <td>0.858</td>\n",
       "      <td>114.287</td>\n",
       "    </tr>\n",
       "    <tr>\n",
       "      <th>distilroberta+umap5+clara</th>\n",
       "      <td>0.863</td>\n",
       "      <td>0.872</td>\n",
       "      <td>0.901</td>\n",
       "      <td>0.829</td>\n",
       "      <td>0.817</td>\n",
       "      <td>0.850</td>\n",
       "      <td>0.000</td>\n",
       "      <td>0.000</td>\n",
       "      <td>0.766</td>\n",
       "      <td>0.872</td>\n",
       "      <td>0.885</td>\n",
       "      <td>0.859</td>\n",
       "      <td>111.662</td>\n",
       "    </tr>\n",
       "    <tr>\n",
       "      <th>distilroberta+umap5+gmm</th>\n",
       "      <td>0.908</td>\n",
       "      <td>0.893</td>\n",
       "      <td>0.958</td>\n",
       "      <td>0.937</td>\n",
       "      <td>0.957</td>\n",
       "      <td>0.925</td>\n",
       "      <td>0.906</td>\n",
       "      <td>0.605</td>\n",
       "      <td>0.762</td>\n",
       "      <td>0.893</td>\n",
       "      <td>0.895</td>\n",
       "      <td>0.890</td>\n",
       "      <td>111.622</td>\n",
       "    </tr>\n",
       "    <tr>\n",
       "      <th>distilroberta+umap5+hdbscan</th>\n",
       "      <td>0.914</td>\n",
       "      <td>0.898</td>\n",
       "      <td>0.963</td>\n",
       "      <td>0.958</td>\n",
       "      <td>0.959</td>\n",
       "      <td>0.958</td>\n",
       "      <td>0.899</td>\n",
       "      <td>0.901</td>\n",
       "      <td>0.775</td>\n",
       "      <td>0.898</td>\n",
       "      <td>0.899</td>\n",
       "      <td>0.898</td>\n",
       "      <td>132.498</td>\n",
       "    </tr>\n",
       "    <tr>\n",
       "      <th>distilroberta+umap5+kmeans</th>\n",
       "      <td>0.862</td>\n",
       "      <td>0.872</td>\n",
       "      <td>0.897</td>\n",
       "      <td>0.826</td>\n",
       "      <td>0.813</td>\n",
       "      <td>0.850</td>\n",
       "      <td>0.002</td>\n",
       "      <td>0.000</td>\n",
       "      <td>0.765</td>\n",
       "      <td>0.872</td>\n",
       "      <td>0.886</td>\n",
       "      <td>0.858</td>\n",
       "      <td>110.941</td>\n",
       "    </tr>\n",
       "    <tr>\n",
       "      <th>doc2vec100+umap5+kmeans</th>\n",
       "      <td>0.034</td>\n",
       "      <td>0.062</td>\n",
       "      <td>0.235</td>\n",
       "      <td>0.216</td>\n",
       "      <td>0.211</td>\n",
       "      <td>0.242</td>\n",
       "      <td>0.002</td>\n",
       "      <td>0.001</td>\n",
       "      <td>0.238</td>\n",
       "      <td>0.062</td>\n",
       "      <td>0.062</td>\n",
       "      <td>0.062</td>\n",
       "      <td>142.802</td>\n",
       "    </tr>\n",
       "    <tr>\n",
       "      <th>fasttext100+umap5+kmeans</th>\n",
       "      <td>0.825</td>\n",
       "      <td>0.828</td>\n",
       "      <td>0.876</td>\n",
       "      <td>0.812</td>\n",
       "      <td>0.796</td>\n",
       "      <td>0.839</td>\n",
       "      <td>0.019</td>\n",
       "      <td>0.002</td>\n",
       "      <td>0.677</td>\n",
       "      <td>0.828</td>\n",
       "      <td>0.843</td>\n",
       "      <td>0.814</td>\n",
       "      <td>79.005</td>\n",
       "    </tr>\n",
       "    <tr>\n",
       "      <th>lda</th>\n",
       "      <td>0.237</td>\n",
       "      <td>0.295</td>\n",
       "      <td>0.482</td>\n",
       "      <td>0.438</td>\n",
       "      <td>0.479</td>\n",
       "      <td>0.492</td>\n",
       "      <td>0.110</td>\n",
       "      <td>0.039</td>\n",
       "      <td>NaN</td>\n",
       "      <td>0.296</td>\n",
       "      <td>0.294</td>\n",
       "      <td>0.297</td>\n",
       "      <td>83.631</td>\n",
       "    </tr>\n",
       "    <tr>\n",
       "      <th>mpnet+svd50+kmeans</th>\n",
       "      <td>0.835</td>\n",
       "      <td>0.836</td>\n",
       "      <td>0.895</td>\n",
       "      <td>0.828</td>\n",
       "      <td>0.818</td>\n",
       "      <td>0.850</td>\n",
       "      <td>0.072</td>\n",
       "      <td>0.010</td>\n",
       "      <td>0.206</td>\n",
       "      <td>0.836</td>\n",
       "      <td>0.850</td>\n",
       "      <td>0.823</td>\n",
       "      <td>113.398</td>\n",
       "    </tr>\n",
       "    <tr>\n",
       "      <th>mpnet+umap10+kmeans</th>\n",
       "      <td>0.869</td>\n",
       "      <td>0.867</td>\n",
       "      <td>0.923</td>\n",
       "      <td>0.842</td>\n",
       "      <td>0.834</td>\n",
       "      <td>0.854</td>\n",
       "      <td>0.003</td>\n",
       "      <td>0.001</td>\n",
       "      <td>0.769</td>\n",
       "      <td>0.867</td>\n",
       "      <td>0.878</td>\n",
       "      <td>0.857</td>\n",
       "      <td>172.223</td>\n",
       "    </tr>\n",
       "    <tr>\n",
       "      <th>mpnet+umap5+clara</th>\n",
       "      <td>0.875</td>\n",
       "      <td>0.873</td>\n",
       "      <td>0.925</td>\n",
       "      <td>0.872</td>\n",
       "      <td>0.935</td>\n",
       "      <td>0.877</td>\n",
       "      <td>0.726</td>\n",
       "      <td>0.160</td>\n",
       "      <td>0.743</td>\n",
       "      <td>0.873</td>\n",
       "      <td>0.887</td>\n",
       "      <td>0.859</td>\n",
       "      <td>165.597</td>\n",
       "    </tr>\n",
       "    <tr>\n",
       "      <th>mpnet+umap5+hdbscan</th>\n",
       "      <td>0.893</td>\n",
       "      <td>0.881</td>\n",
       "      <td>0.946</td>\n",
       "      <td>0.852</td>\n",
       "      <td>0.852</td>\n",
       "      <td>0.852</td>\n",
       "      <td>0.003</td>\n",
       "      <td>0.003</td>\n",
       "      <td>0.748</td>\n",
       "      <td>0.881</td>\n",
       "      <td>0.882</td>\n",
       "      <td>0.881</td>\n",
       "      <td>185.922</td>\n",
       "    </tr>\n",
       "    <tr>\n",
       "      <th>mpnet+umap5+kmeans</th>\n",
       "      <td>0.876</td>\n",
       "      <td>0.873</td>\n",
       "      <td>0.926</td>\n",
       "      <td>0.874</td>\n",
       "      <td>0.936</td>\n",
       "      <td>0.877</td>\n",
       "      <td>0.739</td>\n",
       "      <td>0.165</td>\n",
       "      <td>0.748</td>\n",
       "      <td>0.873</td>\n",
       "      <td>0.887</td>\n",
       "      <td>0.860</td>\n",
       "      <td>171.468</td>\n",
       "    </tr>\n",
       "    <tr>\n",
       "      <th>tfidf+svd50+kmeans</th>\n",
       "      <td>0.749</td>\n",
       "      <td>0.775</td>\n",
       "      <td>0.867</td>\n",
       "      <td>0.795</td>\n",
       "      <td>0.786</td>\n",
       "      <td>0.814</td>\n",
       "      <td>0.031</td>\n",
       "      <td>0.007</td>\n",
       "      <td>0.159</td>\n",
       "      <td>0.775</td>\n",
       "      <td>0.782</td>\n",
       "      <td>0.769</td>\n",
       "      <td>3.244</td>\n",
       "    </tr>\n",
       "    <tr>\n",
       "      <th>tfidf+umap5+clara</th>\n",
       "      <td>0.818</td>\n",
       "      <td>0.802</td>\n",
       "      <td>0.901</td>\n",
       "      <td>0.833</td>\n",
       "      <td>0.842</td>\n",
       "      <td>0.843</td>\n",
       "      <td>0.264</td>\n",
       "      <td>0.052</td>\n",
       "      <td>0.545</td>\n",
       "      <td>0.802</td>\n",
       "      <td>0.813</td>\n",
       "      <td>0.791</td>\n",
       "      <td>77.735</td>\n",
       "    </tr>\n",
       "    <tr>\n",
       "      <th>tfidf+umap5+kmeans</th>\n",
       "      <td>0.826</td>\n",
       "      <td>0.808</td>\n",
       "      <td>0.907</td>\n",
       "      <td>0.856</td>\n",
       "      <td>0.917</td>\n",
       "      <td>0.859</td>\n",
       "      <td>0.813</td>\n",
       "      <td>0.157</td>\n",
       "      <td>0.556</td>\n",
       "      <td>0.808</td>\n",
       "      <td>0.821</td>\n",
       "      <td>0.795</td>\n",
       "      <td>75.934</td>\n",
       "    </tr>\n",
       "    <tr>\n",
       "      <th>use+svd30+kmeans</th>\n",
       "      <td>0.828</td>\n",
       "      <td>0.819</td>\n",
       "      <td>0.923</td>\n",
       "      <td>0.921</td>\n",
       "      <td>0.922</td>\n",
       "      <td>0.920</td>\n",
       "      <td>0.857</td>\n",
       "      <td>0.850</td>\n",
       "      <td>0.739</td>\n",
       "      <td>0.819</td>\n",
       "      <td>0.819</td>\n",
       "      <td>0.819</td>\n",
       "      <td>12.514</td>\n",
       "    </tr>\n",
       "    <tr>\n",
       "      <th>use+umap5+kmeans</th>\n",
       "      <td>0.828</td>\n",
       "      <td>0.819</td>\n",
       "      <td>0.923</td>\n",
       "      <td>0.921</td>\n",
       "      <td>0.922</td>\n",
       "      <td>0.920</td>\n",
       "      <td>0.857</td>\n",
       "      <td>0.850</td>\n",
       "      <td>0.739</td>\n",
       "      <td>0.819</td>\n",
       "      <td>0.819</td>\n",
       "      <td>0.819</td>\n",
       "      <td>56.144</td>\n",
       "    </tr>\n",
       "    <tr>\n",
       "      <th>word2vec100+umap5+gmm</th>\n",
       "      <td>0.896</td>\n",
       "      <td>0.877</td>\n",
       "      <td>0.954</td>\n",
       "      <td>0.948</td>\n",
       "      <td>0.944</td>\n",
       "      <td>0.954</td>\n",
       "      <td>0.831</td>\n",
       "      <td>0.922</td>\n",
       "      <td>0.786</td>\n",
       "      <td>0.877</td>\n",
       "      <td>0.876</td>\n",
       "      <td>0.878</td>\n",
       "      <td>104.215</td>\n",
       "    </tr>\n",
       "    <tr>\n",
       "      <th>word2vec100+umap5+kmeans</th>\n",
       "      <td>0.896</td>\n",
       "      <td>0.877</td>\n",
       "      <td>0.954</td>\n",
       "      <td>0.949</td>\n",
       "      <td>0.944</td>\n",
       "      <td>0.954</td>\n",
       "      <td>0.833</td>\n",
       "      <td>0.921</td>\n",
       "      <td>0.786</td>\n",
       "      <td>0.877</td>\n",
       "      <td>0.876</td>\n",
       "      <td>0.878</td>\n",
       "      <td>103.724</td>\n",
       "    </tr>\n",
       "    <tr>\n",
       "      <th>word2vec20+umap5+hdbscan</th>\n",
       "      <td>0.802</td>\n",
       "      <td>0.803</td>\n",
       "      <td>0.876</td>\n",
       "      <td>0.810</td>\n",
       "      <td>0.795</td>\n",
       "      <td>0.835</td>\n",
       "      <td>0.010</td>\n",
       "      <td>0.001</td>\n",
       "      <td>0.677</td>\n",
       "      <td>0.803</td>\n",
       "      <td>0.816</td>\n",
       "      <td>0.791</td>\n",
       "      <td>139.200</td>\n",
       "    </tr>\n",
       "    <tr>\n",
       "      <th>word2vec20+umap5+kmeans</th>\n",
       "      <td>0.802</td>\n",
       "      <td>0.803</td>\n",
       "      <td>0.876</td>\n",
       "      <td>0.810</td>\n",
       "      <td>0.795</td>\n",
       "      <td>0.835</td>\n",
       "      <td>0.010</td>\n",
       "      <td>0.001</td>\n",
       "      <td>0.677</td>\n",
       "      <td>0.803</td>\n",
       "      <td>0.816</td>\n",
       "      <td>0.791</td>\n",
       "      <td>71.182</td>\n",
       "    </tr>\n",
       "    <tr>\n",
       "      <th>word2vec300+umap5+hdbscan</th>\n",
       "      <td>0.903</td>\n",
       "      <td>0.885</td>\n",
       "      <td>0.957</td>\n",
       "      <td>0.952</td>\n",
       "      <td>0.951</td>\n",
       "      <td>0.953</td>\n",
       "      <td>0.877</td>\n",
       "      <td>0.888</td>\n",
       "      <td>0.793</td>\n",
       "      <td>0.885</td>\n",
       "      <td>0.885</td>\n",
       "      <td>0.885</td>\n",
       "      <td>145.977</td>\n",
       "    </tr>\n",
       "    <tr>\n",
       "      <th>word2vec300+umap5+kmeans</th>\n",
       "      <td>0.903</td>\n",
       "      <td>0.885</td>\n",
       "      <td>0.958</td>\n",
       "      <td>0.952</td>\n",
       "      <td>0.951</td>\n",
       "      <td>0.953</td>\n",
       "      <td>0.877</td>\n",
       "      <td>0.886</td>\n",
       "      <td>0.795</td>\n",
       "      <td>0.885</td>\n",
       "      <td>0.885</td>\n",
       "      <td>0.886</td>\n",
       "      <td>133.661</td>\n",
       "    </tr>\n",
       "    <tr>\n",
       "      <th>word2vec50+umap5+kmeans</th>\n",
       "      <td>0.882</td>\n",
       "      <td>0.863</td>\n",
       "      <td>0.948</td>\n",
       "      <td>0.938</td>\n",
       "      <td>0.934</td>\n",
       "      <td>0.944</td>\n",
       "      <td>0.789</td>\n",
       "      <td>0.872</td>\n",
       "      <td>0.759</td>\n",
       "      <td>0.863</td>\n",
       "      <td>0.862</td>\n",
       "      <td>0.863</td>\n",
       "      <td>77.976</td>\n",
       "    </tr>\n",
       "  </tbody>\n",
       "</table>\n",
       "</div>"
      ],
      "text/plain": [
       "                              ari   ami   acc    f1   rec   pre  mrec  mpre  \\\n",
       "distilroberta+umap10+clara  0.871 0.875 0.912 0.836 0.826 0.854 0.002 0.000   \n",
       "distilroberta+umap10+kmeans 0.862 0.872 0.896 0.826 0.813 0.849 0.000 0.000   \n",
       "distilroberta+umap5+clara   0.863 0.872 0.901 0.829 0.817 0.850 0.000 0.000   \n",
       "distilroberta+umap5+gmm     0.908 0.893 0.958 0.937 0.957 0.925 0.906 0.605   \n",
       "distilroberta+umap5+hdbscan 0.914 0.898 0.963 0.958 0.959 0.958 0.899 0.901   \n",
       "distilroberta+umap5+kmeans  0.862 0.872 0.897 0.826 0.813 0.850 0.002 0.000   \n",
       "doc2vec100+umap5+kmeans     0.034 0.062 0.235 0.216 0.211 0.242 0.002 0.001   \n",
       "fasttext100+umap5+kmeans    0.825 0.828 0.876 0.812 0.796 0.839 0.019 0.002   \n",
       "lda                         0.237 0.295 0.482 0.438 0.479 0.492 0.110 0.039   \n",
       "mpnet+svd50+kmeans          0.835 0.836 0.895 0.828 0.818 0.850 0.072 0.010   \n",
       "mpnet+umap10+kmeans         0.869 0.867 0.923 0.842 0.834 0.854 0.003 0.001   \n",
       "mpnet+umap5+clara           0.875 0.873 0.925 0.872 0.935 0.877 0.726 0.160   \n",
       "mpnet+umap5+hdbscan         0.893 0.881 0.946 0.852 0.852 0.852 0.003 0.003   \n",
       "mpnet+umap5+kmeans          0.876 0.873 0.926 0.874 0.936 0.877 0.739 0.165   \n",
       "tfidf+svd50+kmeans          0.749 0.775 0.867 0.795 0.786 0.814 0.031 0.007   \n",
       "tfidf+umap5+clara           0.818 0.802 0.901 0.833 0.842 0.843 0.264 0.052   \n",
       "tfidf+umap5+kmeans          0.826 0.808 0.907 0.856 0.917 0.859 0.813 0.157   \n",
       "use+svd30+kmeans            0.828 0.819 0.923 0.921 0.922 0.920 0.857 0.850   \n",
       "use+umap5+kmeans            0.828 0.819 0.923 0.921 0.922 0.920 0.857 0.850   \n",
       "word2vec100+umap5+gmm       0.896 0.877 0.954 0.948 0.944 0.954 0.831 0.922   \n",
       "word2vec100+umap5+kmeans    0.896 0.877 0.954 0.949 0.944 0.954 0.833 0.921   \n",
       "word2vec20+umap5+hdbscan    0.802 0.803 0.876 0.810 0.795 0.835 0.010 0.001   \n",
       "word2vec20+umap5+kmeans     0.802 0.803 0.876 0.810 0.795 0.835 0.010 0.001   \n",
       "word2vec300+umap5+hdbscan   0.903 0.885 0.957 0.952 0.951 0.953 0.877 0.888   \n",
       "word2vec300+umap5+kmeans    0.903 0.885 0.958 0.952 0.951 0.953 0.877 0.886   \n",
       "word2vec50+umap5+kmeans     0.882 0.863 0.948 0.938 0.934 0.944 0.789 0.872   \n",
       "\n",
       "                               ss    vm     h     c    time  \n",
       "distilroberta+umap10+clara  0.758 0.875 0.887 0.863 114.126  \n",
       "distilroberta+umap10+kmeans 0.770 0.872 0.886 0.858 114.287  \n",
       "distilroberta+umap5+clara   0.766 0.872 0.885 0.859 111.662  \n",
       "distilroberta+umap5+gmm     0.762 0.893 0.895 0.890 111.622  \n",
       "distilroberta+umap5+hdbscan 0.775 0.898 0.899 0.898 132.498  \n",
       "distilroberta+umap5+kmeans  0.765 0.872 0.886 0.858 110.941  \n",
       "doc2vec100+umap5+kmeans     0.238 0.062 0.062 0.062 142.802  \n",
       "fasttext100+umap5+kmeans    0.677 0.828 0.843 0.814  79.005  \n",
       "lda                           NaN 0.296 0.294 0.297  83.631  \n",
       "mpnet+svd50+kmeans          0.206 0.836 0.850 0.823 113.398  \n",
       "mpnet+umap10+kmeans         0.769 0.867 0.878 0.857 172.223  \n",
       "mpnet+umap5+clara           0.743 0.873 0.887 0.859 165.597  \n",
       "mpnet+umap5+hdbscan         0.748 0.881 0.882 0.881 185.922  \n",
       "mpnet+umap5+kmeans          0.748 0.873 0.887 0.860 171.468  \n",
       "tfidf+svd50+kmeans          0.159 0.775 0.782 0.769   3.244  \n",
       "tfidf+umap5+clara           0.545 0.802 0.813 0.791  77.735  \n",
       "tfidf+umap5+kmeans          0.556 0.808 0.821 0.795  75.934  \n",
       "use+svd30+kmeans            0.739 0.819 0.819 0.819  12.514  \n",
       "use+umap5+kmeans            0.739 0.819 0.819 0.819  56.144  \n",
       "word2vec100+umap5+gmm       0.786 0.877 0.876 0.878 104.215  \n",
       "word2vec100+umap5+kmeans    0.786 0.877 0.876 0.878 103.724  \n",
       "word2vec20+umap5+hdbscan    0.677 0.803 0.816 0.791 139.200  \n",
       "word2vec20+umap5+kmeans     0.677 0.803 0.816 0.791  71.182  \n",
       "word2vec300+umap5+hdbscan   0.793 0.885 0.885 0.885 145.977  \n",
       "word2vec300+umap5+kmeans    0.795 0.885 0.885 0.886 133.661  \n",
       "word2vec50+umap5+kmeans     0.759 0.863 0.862 0.863  77.976  "
      ]
     },
     "execution_count": 11,
     "metadata": {},
     "output_type": "execute_result"
    }
   ],
   "source": [
    "er.df"
   ]
  },
  {
   "cell_type": "markdown",
   "id": "0def5102-08b8-4774-8377-72c0095e5ee7",
   "metadata": {},
   "source": [
    "# Specific Algorithms Analysis"
   ]
  },
  {
   "cell_type": "markdown",
   "id": "4cc26fe1-8781-46dc-b4ab-1bac3c956bbd",
   "metadata": {},
   "source": [
    "HBDSCAN can help to detect noise tweets. Assignment Probability is a measure of how confident HDBSCAN is of the cluster's assignment"
   ]
  },
  {
   "cell_type": "code",
   "execution_count": 53,
   "id": "1b13a4d9-75e0-40d9-bcf1-9c532b8cf3ac",
   "metadata": {
    "execution": {
     "iopub.execute_input": "2024-01-05T16:01:51.845384Z",
     "iopub.status.busy": "2024-01-05T16:01:51.845104Z",
     "iopub.status.idle": "2024-01-05T16:01:51.903769Z",
     "shell.execute_reply": "2024-01-05T16:01:51.902991Z",
     "shell.execute_reply.started": "2024-01-05T16:01:51.845364Z"
    }
   },
   "outputs": [
    {
     "data": {
      "text/html": [
       "<div>\n",
       "<style scoped>\n",
       "    .dataframe tbody tr th:only-of-type {\n",
       "        vertical-align: middle;\n",
       "    }\n",
       "\n",
       "    .dataframe tbody tr th {\n",
       "        vertical-align: top;\n",
       "    }\n",
       "\n",
       "    .dataframe thead th {\n",
       "        text-align: right;\n",
       "    }\n",
       "</style>\n",
       "<table border=\"1\" class=\"dataframe\">\n",
       "  <thead>\n",
       "    <tr style=\"text-align: right;\">\n",
       "      <th></th>\n",
       "      <th>text</th>\n",
       "      <th>probability</th>\n",
       "    </tr>\n",
       "  </thead>\n",
       "  <tbody>\n",
       "    <tr>\n",
       "      <th>3938</th>\n",
       "      <td>This is what happens when you have a fucking baniya become the broadcaster of a major sports event.\\n#JioCinema  #FIFAWorldCup</td>\n",
       "      <td>0.05</td>\n",
       "    </tr>\n",
       "    <tr>\n",
       "      <th>3952</th>\n",
       "      <td>The #Indian advertisement of the world cup doesn't even feature the North East part of India where the MAJORITY of people are football fans.\\nStop this kind of discrimination!\\n\\n#WorldCup #WorldCup2022</td>\n",
       "      <td>0.06</td>\n",
       "    </tr>\n",
       "    <tr>\n",
       "      <th>3594</th>\n",
       "      <td>Can you watch World Cup matches without having to put up with a commentary?  #FIFAWorldCup</td>\n",
       "      <td>0.07</td>\n",
       "    </tr>\n",
       "    <tr>\n",
       "      <th>4205</th>\n",
       "      <td>What sin did we committed that we have to rely on @JioCinema for the World Cup?\\n\\n#JioCinema</td>\n",
       "      <td>0.07</td>\n",
       "    </tr>\n",
       "    <tr>\n",
       "      <th>4312</th>\n",
       "      <td>Wow neither my Comcast nor Miami local channels has the #WorldCup2022 on??? I am now streaming it from Twitter on my unlogged in smart TV web browser!! Picture is awesome!! Thank you @elonmusk</td>\n",
       "      <td>0.11</td>\n",
       "    </tr>\n",
       "    <tr>\n",
       "      <th>3840</th>\n",
       "      <td>@JioCinema Can you bloody acknowledge that this is being looked into and will be fixed ffs??????? #WorldCup2022 #JioCinema #scam</td>\n",
       "      <td>0.11</td>\n",
       "    </tr>\n",
       "    <tr>\n",
       "      <th>3907</th>\n",
       "      <td>Just to rub salt in the wounds of anyone gagging for half a lager at the #QATECU game, an advert for @Budweiser comes up on the side of the pitch!😂</td>\n",
       "      <td>0.14</td>\n",
       "    </tr>\n",
       "    <tr>\n",
       "      <th>4175</th>\n",
       "      <td>The world's biggest sporting event and @reliancejio doesn't have the infrastructure capacity to broadcast the  uninterrupted without any glitches. What a shame for India. I suppose we are too far away from a truly digital experience. #CronyCapitalism #FIFAWorldCup</td>\n",
       "      <td>0.16</td>\n",
       "    </tr>\n",
       "    <tr>\n",
       "      <th>4449</th>\n",
       "      <td>Please let me know how to watch #WorldCup2022 for free without #cabletv.</td>\n",
       "      <td>0.17</td>\n",
       "    </tr>\n",
       "    <tr>\n",
       "      <th>4961</th>\n",
       "      <td>While we express our anger and sadness on Twitter, I reflect that the rest of the country doesn’t listen to us and elects these horrible ppl back. So how do we get the message out if Twitter doesn’t help the cause?</td>\n",
       "      <td>0.19</td>\n",
       "    </tr>\n",
       "  </tbody>\n",
       "</table>\n",
       "</div>"
      ],
      "text/plain": [
       "                                                                                                                                                                                                                                                                          text  \\\n",
       "3938                                                                                                                                            This is what happens when you have a fucking baniya become the broadcaster of a major sports event.\\n#JioCinema  #FIFAWorldCup   \n",
       "3952                                                                The #Indian advertisement of the world cup doesn't even feature the North East part of India where the MAJORITY of people are football fans.\\nStop this kind of discrimination!\\n\\n#WorldCup #WorldCup2022   \n",
       "3594                                                                                                                                                                                Can you watch World Cup matches without having to put up with a commentary?  #FIFAWorldCup   \n",
       "4205                                                                                                                                                                            What sin did we committed that we have to rely on @JioCinema for the World Cup?\\n\\n#JioCinema    \n",
       "4312                                                                          Wow neither my Comcast nor Miami local channels has the #WorldCup2022 on??? I am now streaming it from Twitter on my unlogged in smart TV web browser!! Picture is awesome!! Thank you @elonmusk   \n",
       "3840                                                                                                                                          @JioCinema Can you bloody acknowledge that this is being looked into and will be fixed ffs??????? #WorldCup2022 #JioCinema #scam   \n",
       "3907                                                                                                                       Just to rub salt in the wounds of anyone gagging for half a lager at the #QATECU game, an advert for @Budweiser comes up on the side of the pitch!😂   \n",
       "4175  The world's biggest sporting event and @reliancejio doesn't have the infrastructure capacity to broadcast the  uninterrupted without any glitches. What a shame for India. I suppose we are too far away from a truly digital experience. #CronyCapitalism #FIFAWorldCup   \n",
       "4449                                                                                                                                                                                                  Please let me know how to watch #WorldCup2022 for free without #cabletv.   \n",
       "4961                                                   While we express our anger and sadness on Twitter, I reflect that the rest of the country doesn’t listen to us and elects these horrible ppl back. So how do we get the message out if Twitter doesn’t help the cause?    \n",
       "\n",
       "      probability  \n",
       "3938         0.05  \n",
       "3952         0.06  \n",
       "3594         0.07  \n",
       "4205         0.07  \n",
       "4312         0.11  \n",
       "3840         0.11  \n",
       "3907         0.14  \n",
       "4175         0.16  \n",
       "4449         0.17  \n",
       "4961         0.19  "
      ]
     },
     "execution_count": 53,
     "metadata": {},
     "output_type": "execute_result"
    }
   ],
   "source": [
    "n = 10\n",
    "indices = np.argsort(hdbscan.probabilities_)[:n]\n",
    "pd.DataFrame({'text': dataset['text'][indices], 'probability': hdbscan.probabilities_[indices]})"
   ]
  },
  {
   "cell_type": "markdown",
   "id": "1083ccb5-fa0e-4bf5-8c28-699c5fa50203",
   "metadata": {},
   "source": [
    "Top outliers"
   ]
  },
  {
   "cell_type": "code",
   "execution_count": 51,
   "id": "26599a75-299b-4c31-ba1d-3077e99505cd",
   "metadata": {
    "execution": {
     "iopub.execute_input": "2024-01-05T15:59:34.783812Z",
     "iopub.status.busy": "2024-01-05T15:59:34.783271Z",
     "iopub.status.idle": "2024-01-05T15:59:34.856402Z",
     "shell.execute_reply": "2024-01-05T15:59:34.855778Z",
     "shell.execute_reply.started": "2024-01-05T15:59:34.783791Z"
    }
   },
   "outputs": [
    {
     "data": {
      "text/html": [
       "<div>\n",
       "<style scoped>\n",
       "    .dataframe tbody tr th:only-of-type {\n",
       "        vertical-align: middle;\n",
       "    }\n",
       "\n",
       "    .dataframe tbody tr th {\n",
       "        vertical-align: top;\n",
       "    }\n",
       "\n",
       "    .dataframe thead th {\n",
       "        text-align: right;\n",
       "    }\n",
       "</style>\n",
       "<table border=\"1\" class=\"dataframe\">\n",
       "  <thead>\n",
       "    <tr style=\"text-align: right;\">\n",
       "      <th></th>\n",
       "      <th>text</th>\n",
       "      <th>outlier score</th>\n",
       "    </tr>\n",
       "  </thead>\n",
       "  <tbody>\n",
       "    <tr>\n",
       "      <th>3938</th>\n",
       "      <td>This is what happens when you have a fucking baniya become the broadcaster of a major sports event.\\n#JioCinema  #FIFAWorldCup</td>\n",
       "      <td>0.95</td>\n",
       "    </tr>\n",
       "    <tr>\n",
       "      <th>3952</th>\n",
       "      <td>The #Indian advertisement of the world cup doesn't even feature the North East part of India where the MAJORITY of people are football fans.\\nStop this kind of discrimination!\\n\\n#WorldCup #WorldCup2022</td>\n",
       "      <td>0.94</td>\n",
       "    </tr>\n",
       "    <tr>\n",
       "      <th>3594</th>\n",
       "      <td>Can you watch World Cup matches without having to put up with a commentary?  #FIFAWorldCup</td>\n",
       "      <td>0.93</td>\n",
       "    </tr>\n",
       "    <tr>\n",
       "      <th>4205</th>\n",
       "      <td>What sin did we committed that we have to rely on @JioCinema for the World Cup?\\n\\n#JioCinema</td>\n",
       "      <td>0.93</td>\n",
       "    </tr>\n",
       "    <tr>\n",
       "      <th>4312</th>\n",
       "      <td>Wow neither my Comcast nor Miami local channels has the #WorldCup2022 on??? I am now streaming it from Twitter on my unlogged in smart TV web browser!! Picture is awesome!! Thank you @elonmusk</td>\n",
       "      <td>0.89</td>\n",
       "    </tr>\n",
       "    <tr>\n",
       "      <th>6419</th>\n",
       "      <td>The following link is information on how consumers can report fraudulent products. This is imperative with the uprising of fake COVID-19 medical products. https://t.co/B2CCWBuAmQ\\r\\r\\n\\r\\r\\nNew Yorkers can contact the Consumer Complaint Coordinator at 866-446-9055 (toll-free).</td>\n",
       "      <td>0.89</td>\n",
       "    </tr>\n",
       "    <tr>\n",
       "      <th>3840</th>\n",
       "      <td>@JioCinema Can you bloody acknowledge that this is being looked into and will be fixed ffs??????? #WorldCup2022 #JioCinema #scam</td>\n",
       "      <td>0.89</td>\n",
       "    </tr>\n",
       "    <tr>\n",
       "      <th>6196</th>\n",
       "      <td>Many are facing financial uncertainty at this time. The Consumer Financial Protection Bureau site lists key resources and steps to help protect yourself financially from the impact of COVID-19. https://t.co/9ZeF36sW5v https://t.co/erzNZedkJF</td>\n",
       "      <td>0.89</td>\n",
       "    </tr>\n",
       "    <tr>\n",
       "      <th>6262</th>\n",
       "      <td>We welcome today s proposed measures from to support consumer credit customers through the outbreak Read our full response</td>\n",
       "      <td>0.88</td>\n",
       "    </tr>\n",
       "    <tr>\n",
       "      <th>6502</th>\n",
       "      <td>.@NCLC4consumers has been doing a great job putting together a list of all the major consumer protections, and their publication \"Surviving Debt\" is now online for free. You can find everything at the link, but wanted to highlight some major ones: https://t.co/1whYfIal70</td>\n",
       "      <td>0.88</td>\n",
       "    </tr>\n",
       "  </tbody>\n",
       "</table>\n",
       "</div>"
      ],
      "text/plain": [
       "                                                                                                                                                                                                                                                                                       text  \\\n",
       "3938                                                                                                                                                         This is what happens when you have a fucking baniya become the broadcaster of a major sports event.\\n#JioCinema  #FIFAWorldCup   \n",
       "3952                                                                             The #Indian advertisement of the world cup doesn't even feature the North East part of India where the MAJORITY of people are football fans.\\nStop this kind of discrimination!\\n\\n#WorldCup #WorldCup2022   \n",
       "3594                                                                                                                                                                                             Can you watch World Cup matches without having to put up with a commentary?  #FIFAWorldCup   \n",
       "4205                                                                                                                                                                                         What sin did we committed that we have to rely on @JioCinema for the World Cup?\\n\\n#JioCinema    \n",
       "4312                                                                                       Wow neither my Comcast nor Miami local channels has the #WorldCup2022 on??? I am now streaming it from Twitter on my unlogged in smart TV web browser!! Picture is awesome!! Thank you @elonmusk   \n",
       "6419  The following link is information on how consumers can report fraudulent products. This is imperative with the uprising of fake COVID-19 medical products. https://t.co/B2CCWBuAmQ\\r\\r\\n\\r\\r\\nNew Yorkers can contact the Consumer Complaint Coordinator at 866-446-9055 (toll-free).   \n",
       "3840                                                                                                                                                       @JioCinema Can you bloody acknowledge that this is being looked into and will be fixed ffs??????? #WorldCup2022 #JioCinema #scam   \n",
       "6196                                      Many are facing financial uncertainty at this time. The Consumer Financial Protection Bureau site lists key resources and steps to help protect yourself financially from the impact of COVID-19. https://t.co/9ZeF36sW5v https://t.co/erzNZedkJF   \n",
       "6262                                                                                                                                                             We welcome today s proposed measures from to support consumer credit customers through the outbreak Read our full response   \n",
       "6502        .@NCLC4consumers has been doing a great job putting together a list of all the major consumer protections, and their publication \"Surviving Debt\" is now online for free. You can find everything at the link, but wanted to highlight some major ones: https://t.co/1whYfIal70   \n",
       "\n",
       "      outlier score  \n",
       "3938           0.95  \n",
       "3952           0.94  \n",
       "3594           0.93  \n",
       "4205           0.93  \n",
       "4312           0.89  \n",
       "6419           0.89  \n",
       "3840           0.89  \n",
       "6196           0.89  \n",
       "6262           0.88  \n",
       "6502           0.88  "
      ]
     },
     "execution_count": 51,
     "metadata": {},
     "output_type": "execute_result"
    }
   ],
   "source": [
    "n = 10\n",
    "indices = np.argsort(hdbscan.outlier_scores_)[::-1][:n]\n",
    "pd.DataFrame({'text': dataset['text'][indices], 'outlier score': hdbscan.outlier_scores_[indices]})"
   ]
  }
 ],
 "metadata": {
  "kernelspec": {
   "display_name": "Python 3 (ipykernel)",
   "language": "python",
   "name": "python3"
  },
  "language_info": {
   "codemirror_mode": {
    "name": "ipython",
    "version": 3
   },
   "file_extension": ".py",
   "mimetype": "text/x-python",
   "name": "python",
   "nbconvert_exporter": "python",
   "pygments_lexer": "ipython3",
   "version": "3.9.16"
  }
 },
 "nbformat": 4,
 "nbformat_minor": 5
}
